{
 "cells": [
  {
   "cell_type": "code",
   "execution_count": 1,
   "metadata": {},
   "outputs": [],
   "source": [
    "import numpy as np\n",
    "import matplotlib.pyplot as plt\n",
    "from scipy.interpolate import interp1d\n",
    "%matplotlib inline"
   ]
  },
  {
   "cell_type": "markdown",
   "metadata": {},
   "source": [
    "## Using a finite volume method to rewrite Equation 122 of Ogilvie 1999 in terms of a conservative equation"
   ]
  },
  {
   "cell_type": "markdown",
   "metadata": {},
   "source": [
    "### $\\vec{\\lambda} \\equiv I\\Omega r^2\\vec{l}$\n",
    "### $I \\equiv \\frac{1}{2\\pi}\\int_0^{2\\pi}\\int_{-\\infty}^{\\infty}\\rho z^2 dz d\\phi = \\Sigma (h/r)^2r^2$ (if $\\gamma = 1$) \n",
    "### $\\Omega = r^{-3/2}$ (Keplerian, $G=M=1$)"
   ]
  },
  {
   "cell_type": "markdown",
   "metadata": {},
   "source": [
    "### Internal coordinates: $x = {\\rm ln}\\,r$, $\\frac{\\partial}{\\partial r} = \\frac{1}{r}\\frac{\\partial}{\\partial x}$"
   ]
  },
  {
   "cell_type": "markdown",
   "metadata": {},
   "source": [
    "### Warp parameter: $\\psi \\equiv |\\frac{\\partial}{\\partial x}\\frac{\\vec{\\lambda}}{\\lambda}|$\n",
    "### Dispersion coefficients: $Q_1 = Q_1(\\psi),\\,Q_2 = Q_2(\\psi),\\,Q_3 = Q_3(\\psi)$ (interpolated from table)"
   ]
  },
  {
   "cell_type": "markdown",
   "metadata": {},
   "source": [
    "### $\\frac{\\partial \\vec{\\lambda}}{\\partial t} + \\frac{\\partial}{\\partial x}\\left[F_{\\rm adv}(\\vec{\\lambda}) + F_{\\rm diff}(\\vec{\\lambda})\\right](h/r)^2 = \\vec{S}$"
   ]
  },
  {
   "cell_type": "markdown",
   "metadata": {},
   "source": [
    "### $\\vec{S} = \\vec{T}(h/r)^2r^2$ is some source term, where $\\vec{T}$ is the same quantity in Equation 122 of Ogilvie 1999 and for the case of Lense-Thirring precession:\n",
    "### $\\vec{S} = \\vec{\\Omega}_p\\times\\vec{\\lambda}$ where $\\vec{\\Omega}_p = 2a/r^3\\vec{z}$ where $a$ is the dimensionless spin ($-1 < a < 1$) of the central black hole, where we have defined the black hole angular momentum to be in the $\\vec{z}$ direction"
   ]
  },
  {
   "cell_type": "markdown",
   "metadata": {},
   "source": [
    "### $F_{\\rm adv}$ is the advective flux term:\n",
    "### $F_{\\rm adv} = -r^{-3/2}(Q_1(\\psi) + 2Q_2(\\psi)\\psi^2)\\vec{\\lambda}$"
   ]
  },
  {
   "cell_type": "markdown",
   "metadata": {},
   "source": [
    "### $F_{\\rm diff}$ is the diffusive flux term:\n",
    "### $F_{\\rm diff} = \\frac{2\\vec{\\lambda}}{\\lambda}\\frac{\\partial}{\\partial x}(Q_1(\\psi)\\lambda r^{-3/2}) - Q_2(\\psi)r^{-3/2}\\lambda\\frac{\\partial}{\\partial x}(\\frac{\\vec{\\lambda}}{\\lambda}) - Q_3(\\psi)r^{-3/2}\\vec{\\lambda}\\times\\frac{\\partial}{\\partial x}(\\frac{\\vec{\\lambda}}{\\lambda})$"
   ]
  },
  {
   "cell_type": "markdown",
   "metadata": {},
   "source": [
    "### Where for convenience we write the components of the cross product explicitly:"
   ]
  },
  {
   "cell_type": "markdown",
   "metadata": {},
   "source": [
    "### $(\\vec{\\lambda}\\times\\frac{\\partial}{\\partial x}(\\frac{\\vec{\\lambda}}{\\lambda}))_x = \\lambda_y\\frac{\\partial}{\\partial x}(\\frac{\\vec{\\lambda}}{\\lambda})_z - \\lambda_z\\frac{\\partial}{\\partial x}(\\frac{\\vec{\\lambda}}{\\lambda})_y$"
   ]
  },
  {
   "cell_type": "markdown",
   "metadata": {},
   "source": [
    "### $(\\vec{\\lambda}\\times\\frac{\\partial}{\\partial x}(\\frac{\\vec{\\lambda}}{\\lambda}))_y = \\lambda_z\\frac{\\partial}{\\partial x}(\\frac{\\vec{\\lambda}}{\\lambda})_x - \\lambda_x\\frac{\\partial}{\\partial x}(\\frac{\\vec{\\lambda}}{\\lambda})_z$"
   ]
  },
  {
   "cell_type": "markdown",
   "metadata": {},
   "source": [
    "### $(\\vec{\\lambda}\\times\\frac{\\partial}{\\partial x}(\\frac{\\vec{\\lambda}}{\\lambda}))_z = \\lambda_x\\frac{\\partial}{\\partial x}(\\frac{\\vec{\\lambda}}{\\lambda})_y - \\lambda_y\\frac{\\partial}{\\partial x}(\\frac{\\vec{\\lambda}}{\\lambda})_x$"
   ]
  },
  {
   "cell_type": "code",
   "execution_count": 1,
   "metadata": {},
   "outputs": [],
   "source": [
    "from __future__ import division\n",
    "from sympy import *\n",
    "from sympy import init_printing\n",
    "from sympy.physics.vector import dynamicsymbols\n",
    "\n",
    "init_printing()\n",
    "x = symbols(r'x', positive = True)\n",
    "r   = exp(x)\n",
    "\n",
    "# psi=0 term\n",
    "if (1):\n",
    "    Lx = Function('L_x')(x)\n",
    "    Ly = Function('L_y')(x)\n",
    "    Lz = Function('L_z')(x)    \n",
    "    \n",
    "    fx = Lx\n",
    "    fy = Ly\n",
    "    fz = Lz\n",
    "\n",
    "# precession term\n",
    "if (0):\n",
    "\n",
    "    lx = Function('l_x')(x)\n",
    "    ly = Function('l_y')(x)\n",
    "    lz = Function('l_z')(x)\n",
    "\n",
    "    fx = ly*diff(lz,x) - lz*diff(ly,x)\n",
    "    fy = lz*diff(lx,x) - lx*diff(lz,x)\n",
    "    fz = lx*diff(ly,x) - ly*diff(lx,x)\n",
    "    \n",
    "    # Add first order Q term\n",
    "    if (1):\n",
    "        a = symbols(r'a', positive = True)\n",
    "        psi2 = diff(lx,x)**2. + diff(ly,x)**2. + diff(lz,x)**2.\n",
    "        fx *= (3./8. + a*psi2)\n",
    "        fy *= (3./8. + a*psi2)\n",
    "        fz *= (3./8. + a*psi2)\n",
    "    \n",
    "# tilt term\n",
    "if (0):\n",
    "    Lx = Function('L_x')(x)\n",
    "    Ly = Function('L_y')(x)\n",
    "    Lz = Function('L_z')(x)    \n",
    "    \n",
    "    fx = diff(Lx,x) - (Lx/(Lx*Lx + Ly*Ly + Lz*Lz))*(Lx*diff(Lx,x) + Ly*diff(Ly,x) + Lz*diff(Lz,x))\n",
    "    fy = diff(Ly,x) - (Ly/(Lx*Lx + Ly*Ly + Lz*Lz))*(Lx*diff(Lx,x) + Ly*diff(Ly,x) + Lz*diff(Lz,x))\n",
    "    fz = diff(Lz,x) - (Lz/(Lx*Lx + Ly*Ly + Lz*Lz))*(Lx*diff(Lx,x) + Ly*diff(Ly,x) + Lz*diff(Lz,x))\n",
    "\n",
    "# advective tilt term\n",
    "if(0):\n",
    "    Lx = Function('L_x')(x)\n",
    "    Ly = Function('L_y')(x)\n",
    "    Lz = Function('L_z')(x)    \n",
    "\n",
    "    #psi2 = diff(Lx/(Lx*Lx + Ly*Ly + Lz*Lz)**0.5,x)**2. + diff(Ly/(Lx*Lx + Ly*Ly + Lz*Lz)**0.5,x)**2. + diff(Lz/(Lx*Lx + Ly*Ly + Lz*Lz)**0.5,x)**2.\n",
    "    psi2 = Function('Psi^2')(x)\n",
    "    \n",
    "    fx = 2. * psi2 * Lx\n",
    "    fy = 2. * psi2 * Ly\n",
    "    fz = 2. * psi2 * Lz\n",
    "    \n",
    "# tilt term from ogilvie eq 124\n",
    "if (0):\n",
    "    lx = Function('l_x')(x)\n",
    "    ly = Function('l_y')(x)\n",
    "    lz = Function('l_z')(x)\n",
    "\n",
    "    psi = (diff(lx,x) + diff(ly,x) + diff(lz,x))**(0.5)\n",
    "    \n",
    "    fx = psi*psi*lx\n",
    "    fy = psi*psi*ly\n",
    "    fz = psi*psi*lz\n",
    "    if (1):\n",
    "        a, b = symbols(r'a b', positive = True)\n",
    "        fx *= (a + b*psi*psi)\n",
    "        fy *= (a + b*psi*psi)\n",
    "        fz *= (a + b*psi*psi)"
   ]
  },
  {
   "cell_type": "code",
   "execution_count": 2,
   "metadata": {},
   "outputs": [],
   "source": [
    "if (1):\n",
    "    A11 = diff(fx,Lx)\n",
    "    A12 = diff(fx,Ly)\n",
    "    A13 = diff(fx,Lz)\n",
    "    A21 = diff(fy,Lx)\n",
    "    A22 = diff(fy,Ly)\n",
    "    A23 = diff(fy,Lz)\n",
    "    A31 = diff(fz,Lx)\n",
    "    A32 = diff(fz,Ly)\n",
    "    A33 = diff(fz,Lz)\n",
    "if (0):\n",
    "    A11 = diff(fx,lx)\n",
    "    A12 = diff(fx,ly)\n",
    "    A13 = diff(fx,lz)\n",
    "    A21 = diff(fy,lx)\n",
    "    A22 = diff(fy,ly)\n",
    "    A23 = diff(fy,lz)\n",
    "    A31 = diff(fz,lx)\n",
    "    A32 = diff(fz,ly)\n",
    "    A33 = diff(fz,lz)"
   ]
  },
  {
   "cell_type": "code",
   "execution_count": 3,
   "metadata": {},
   "outputs": [
    {
     "name": "stdout",
     "output_type": "stream",
     "text": [
      "1\n"
     ]
    }
   ],
   "source": [
    "Aij = Matrix([\n",
    "    [A11, A12, A13],\n",
    "    [A21, A22, A23],\n",
    "    [A31, A32, A33]\n",
    "])\n",
    "\n",
    "print A11"
   ]
  },
  {
   "cell_type": "code",
   "execution_count": 4,
   "metadata": {},
   "outputs": [],
   "source": [
    "Lambda = symbols(r'Lambda')\n",
    "Iij = Matrix([\n",
    "    [1, 0, 0],\n",
    "    [0, 1, 0],\n",
    "    [0, 0, 1]\n",
    "])\n",
    "matrix = Aij - Lambda*Iij"
   ]
  },
  {
   "cell_type": "code",
   "execution_count": 5,
   "metadata": {},
   "outputs": [],
   "source": [
    "determinant = matrix.det()"
   ]
  },
  {
   "cell_type": "code",
   "execution_count": 6,
   "metadata": {},
   "outputs": [
    {
     "data": {
      "image/png": "[encoded data removed]",
      "text/latex": [
       "$\\displaystyle - \\left(\\Lambda - 1\\right)^{3}$"
      ],
      "text/plain": [
       "        3\n",
       "-(Λ - 1) "
      ]
     },
     "execution_count": 6,
     "metadata": {},
     "output_type": "execute_result"
    }
   ],
   "source": [
    "factor(determinant)"
   ]
  },
  {
   "cell_type": "code",
   "execution_count": 7,
   "metadata": {},
   "outputs": [
    {
     "data": {
      "image/png": "[encoded data removed]",
      "text/latex": [
       "$\\displaystyle \\left[ 1\\right]$"
      ],
      "text/plain": [
       "[1]"
      ]
     },
     "execution_count": 7,
     "metadata": {},
     "output_type": "execute_result"
    }
   ],
   "source": [
    "solve(determinant,Lambda)"
   ]
  },
  {
   "cell_type": "markdown",
   "metadata": {},
   "source": []
  },
  {
   "cell_type": "markdown",
   "metadata": {},
   "source": []
  }
 ],
 "metadata": {
  "kernelspec": {
   "display_name": "Python 2",
   "language": "python",
   "name": "python2"
  },
  "language_info": {
   "codemirror_mode": {
    "name": "ipython",
    "version": 2
   },
   "file_extension": ".py",
   "mimetype": "text/x-python",
   "name": "python",
   "nbconvert_exporter": "python",
   "pygments_lexer": "ipython2",
   "version": "2.7.15+"
  }
 },
 "nbformat": 4,
 "nbformat_minor": 2
}
