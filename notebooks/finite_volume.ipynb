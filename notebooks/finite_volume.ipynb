{
 "cells": [
  {
   "cell_type": "code",
   "execution_count": 1,
   "metadata": {},
   "outputs": [],
   "source": [
    "import numpy as np\n",
    "import matplotlib.pyplot as plt\n",
    "from scipy.interpolate import interp1d\n",
    "%matplotlib inline"
   ]
  },
  {
   "cell_type": "markdown",
   "metadata": {},
   "source": [
    "## Using a finite volume method to rewrite Equation 122 of Ogilvie 1999 in terms of a conservative equation"
   ]
  },
  {
   "cell_type": "markdown",
   "metadata": {},
   "source": [
    "### $\\vec{\\lambda} \\equiv I\\Omega r^2\\vec{l}$\n",
    "### $I \\equiv \\frac{1}{2\\pi}\\int_0^{2\\pi}\\int_{-\\infty}^{\\infty}\\rho z^2 dz d\\phi = \\Sigma (h/r)^2r^2$ (if $\\gamma = 1$) \n",
    "### $\\Omega = r^{-3/2}$ (Keplerian, $G=M=1$)"
   ]
  },
  {
   "cell_type": "markdown",
   "metadata": {},
   "source": [
    "### Internal coordinates: $x = {\\rm ln}\\,r$, $\\frac{\\partial}{\\partial r} = \\frac{1}{r}\\frac{\\partial}{\\partial x}$"
   ]
  },
  {
   "cell_type": "markdown",
   "metadata": {},
   "source": [
    "### Warp parameter: $\\psi \\equiv |\\frac{\\partial}{\\partial x}\\frac{\\vec{\\lambda}}{\\lambda}|$\n",
    "### Dispersion coefficients: $Q_1 = Q_1(\\psi),\\,Q_2 = Q_2(\\psi),\\,Q_3 = Q_3(\\psi)$ (interpolated from table)"
   ]
  },
  {
   "cell_type": "markdown",
   "metadata": {},
   "source": [
    "### $\\frac{\\partial \\vec{\\lambda}}{\\partial t} + \\frac{\\partial}{\\partial x}\\left[F_{\\rm adv}(\\vec{\\lambda}) + F_{\\rm diff}(\\vec{\\lambda})\\right](h/r)^2 = \\vec{S}$"
   ]
  },
  {
   "cell_type": "markdown",
   "metadata": {},
   "source": [
    "### $\\vec{S} = \\vec{T}(h/r)^2r^2$ is some source term, where $\\vec{T}$ is the same quantity in Equation 122 of Ogilvie 1999 and for the case of Lense-Thirring precession:\n",
    "### $\\vec{S} = \\vec{\\Omega}_p\\times\\vec{\\lambda}$ where $\\vec{\\Omega}_p = 2a/r^3\\vec{z}$ where $a$ is the dimensionless spin ($-1 < a < 1$) of the central black hole, where we have defined the black hole angular momentum to be in the $\\vec{z}$ direction"
   ]
  },
  {
   "cell_type": "markdown",
   "metadata": {},
   "source": [
    "### $F_{\\rm adv}$ is the advective flux term:\n",
    "### $F_{\\rm adv} = -r^{-3/2}(Q_1(\\psi) + 2Q_2(\\psi)\\psi^2)\\vec{\\lambda}$"
   ]
  },
  {
   "cell_type": "markdown",
   "metadata": {},
   "source": [
    "### $F_{\\rm diff}$ is the diffusive flux term:\n",
    "### $F_{\\rm diff} = \\frac{2\\vec{\\lambda}}{\\lambda}\\frac{\\partial}{\\partial x}(Q_1(\\psi)\\lambda r^{-3/2}) - Q_2(\\psi)r^{-3/2}\\lambda\\frac{\\partial}{\\partial x}(\\frac{\\vec{\\lambda}}{\\lambda}) - Q_3(\\psi)r^{-3/2}\\vec{\\lambda}\\times\\frac{\\partial}{\\partial x}(\\frac{\\vec{\\lambda}}{\\lambda})$"
   ]
  },
  {
   "cell_type": "markdown",
   "metadata": {},
   "source": [
    "### Where for convenience we write the components of the cross product explicitly:"
   ]
  },
  {
   "cell_type": "markdown",
   "metadata": {},
   "source": [
    "### $(\\vec{\\lambda}\\times\\frac{\\partial}{\\partial x}(\\frac{\\vec{\\lambda}}{\\lambda}))_x = \\lambda_y\\frac{\\partial}{\\partial x}(\\frac{\\vec{\\lambda}}{\\lambda})_z - \\lambda_z\\frac{\\partial}{\\partial x}(\\frac{\\vec{\\lambda}}{\\lambda})_y$"
   ]
  },
  {
   "cell_type": "markdown",
   "metadata": {},
   "source": [
    "### $(\\vec{\\lambda}\\times\\frac{\\partial}{\\partial x}(\\frac{\\vec{\\lambda}}{\\lambda}))_y = \\lambda_z\\frac{\\partial}{\\partial x}(\\frac{\\vec{\\lambda}}{\\lambda})_x - \\lambda_x\\frac{\\partial}{\\partial x}(\\frac{\\vec{\\lambda}}{\\lambda})_z$"
   ]
  },
  {
   "cell_type": "markdown",
   "metadata": {},
   "source": [
    "### $(\\vec{\\lambda}\\times\\frac{\\partial}{\\partial x}(\\frac{\\vec{\\lambda}}{\\lambda}))_z = \\lambda_x\\frac{\\partial}{\\partial x}(\\frac{\\vec{\\lambda}}{\\lambda})_y - \\lambda_y\\frac{\\partial}{\\partial x}(\\frac{\\vec{\\lambda}}{\\lambda})_x$"
   ]
  },
  {
   "cell_type": "code",
   "execution_count": 18,
   "metadata": {},
   "outputs": [],
   "source": [
    "from __future__ import division\n",
    "from sympy import *\n",
    "from sympy import init_printing\n",
    "from sympy.physics.vector import dynamicsymbols\n",
    "\n",
    "init_printing()\n",
    "x = symbols(r'x', positive = True)\n",
    "r   = exp(x)\n",
    "\n",
    "# psi=0 term\n",
    "if (0):\n",
    "    Lx = Function('L_x')(x)\n",
    "    Ly = Function('L_y')(x)\n",
    "    Lz = Function('L_z')(x)    \n",
    "    \n",
    "    fx = Lx\n",
    "    fy = Ly\n",
    "    fz = Lz\n",
    "\n",
    "# precession term\n",
    "if (0):\n",
    "\n",
    "    lx = Function('l_x')(x)\n",
    "    ly = Function('l_y')(x)\n",
    "    lz = Function('l_z')(x)\n",
    "\n",
    "    fx = ly*diff(lz,x) - lz*diff(ly,x)\n",
    "    fy = lz*diff(lx,x) - lx*diff(lz,x)\n",
    "    fz = lx*diff(ly,x) - ly*diff(lx,x)\n",
    "    \n",
    "    # Add first order Q term\n",
    "    if (1):\n",
    "        a = symbols(r'a', positive = True)\n",
    "        psi2 = diff(lx,x)**2. + diff(ly,x)**2. + diff(lz,x)**2.\n",
    "        fx *= (3./8. + a*psi2)\n",
    "        fy *= (3./8. + a*psi2)\n",
    "        fz *= (3./8. + a*psi2)\n",
    "    \n",
    "# tilt term\n",
    "if (0):\n",
    "    Lx = Function('L_x')(x)\n",
    "    Ly = Function('L_y')(x)\n",
    "    Lz = Function('L_z')(x)\n",
    "    \n",
    "    fx = (Lx/(Lx*Lx + Ly*Ly + Lz*Lz))*(Lx*diff(Lx,x) + Ly*diff(Ly,x) + Lz*diff(Lz,x))\n",
    "    fy = (Ly/(Lx*Lx + Ly*Ly + Lz*Lz))*(Lx*diff(Lx,x) + Ly*diff(Ly,x) + Lz*diff(Lz,x))\n",
    "    fz = (Lz/(Lx*Lx + Ly*Ly + Lz*Lz))*(Lx*diff(Lx,x) + Ly*diff(Ly,x) + Lz*diff(Lz,x))\n",
    "\n",
    "# advective tilt term\n",
    "if(0):\n",
    "    Lx = Function('L_x')(x)\n",
    "    Ly = Function('L_y')(x)\n",
    "    Lz = Function('L_z')(x)\n",
    "\n",
    "    #psi2 = diff(Lx/(Lx*Lx + Ly*Ly + Lz*Lz)**0.5,x)**2. + diff(Ly/(Lx*Lx + Ly*Ly + Lz*Lz)**0.5,x)**2. + diff(Lz/(Lx*Lx + Ly*Ly + Lz*Lz)**0.5,x)**2.\n",
    "    psi2 = Function('Psi^2')(x)\n",
    "    \n",
    "    Q2 = Function('Q2')(psi2)\n",
    "    \n",
    "    fx = 2. * Q2 * psi2 * Lx\n",
    "    fy = 2. * Q2 * psi2 * Ly\n",
    "    fz = 2. * Q2 * psi2 * Lz\n",
    "    \n",
    "# tilt term from ogilvie eq 124\n",
    "if (0):\n",
    "    lx = Function('l_x')(x)\n",
    "    ly = Function('l_y')(x)\n",
    "    lz = Function('l_z')(x)\n",
    "\n",
    "    psi = (diff(lx,x) + diff(ly,x) + diff(lz,x))**(0.5)\n",
    "    \n",
    "    fx = psi*psi*lx\n",
    "    fy = psi*psi*ly\n",
    "    fz = psi*psi*lz\n",
    "    if (1):\n",
    "        a, b = symbols(r'a b', positive = True)\n",
    "        fx *= (a + b*psi*psi)\n",
    "        fy *= (a + b*psi*psi)\n",
    "        fz *= (a + b*psi*psi)\n",
    "        \n",
    "# Q1 terms\n",
    "if (0):\n",
    "    Lx  = Function('L_x')(x)\n",
    "    Ly  = Function('L_y')(x)\n",
    "    Lz  = Function('L_z')(x)\n",
    "    psi = Function('psi')(x)\n",
    "    psi2 = psi**2\n",
    "    Q1 = Function('Q1')(psi)\n",
    "    dQ1dpsi = Function('dQ1dpsi')(psi)\n",
    "\n",
    "    fx = -Q1*Lx\n",
    "    fy = -Q1*Ly\n",
    "    fz = -Q1*Lz\n",
    "    \n",
    "    fx += 2*Q1*(Lx/(Lx*Lx + Ly*Ly + Lz*Lz))*(Lx*diff(Lx,x) + Ly*diff(Ly,x) + Lz*diff(Lz,x))\n",
    "    fy += 2*Q1*(Ly/(Lx*Lx + Ly*Ly + Lz*Lz))*(Lx*diff(Lx,x) + Ly*diff(Ly,x) + Lz*diff(Lz,x))\n",
    "    fz += 2*Q1*(Lz/(Lx*Lx + Ly*Ly + Lz*Lz))*(Lx*diff(Lx,x) + Ly*diff(Ly,x) + Lz*diff(Lz,x))\n",
    "\n",
    "    fx += 2*diff(psi,x)*diff(Q1,psi)*Lx\n",
    "    fy += 2*diff(psi,x)*diff(Q1,psi)*Ly\n",
    "    fz += 2*diff(psi,x)*diff(Q1,psi)*Lz\n",
    "    \n",
    "# Combine advective Q2 terms\n",
    "if (0):\n",
    "    Lx  = Function('L_x')(x)\n",
    "    Ly  = Function('L_y')(x)\n",
    "    Lz  = Function('L_z')(x)\n",
    "    psi = Function('psi')(x)\n",
    "    psi2 = psi**2\n",
    "    Q2 = Function('Q2')(psi)\n",
    "    \n",
    "    fx = Q2*(Lx/(Lx*Lx + Ly*Ly + Lz*Lz))*(Lx*diff(Lx,x) + Ly*diff(Ly,x) + Lz*diff(Lz,x))\n",
    "    fy = Q2*(Ly/(Lx*Lx + Ly*Ly + Lz*Lz))*(Lx*diff(Lx,x) + Ly*diff(Ly,x) + Lz*diff(Lz,x))\n",
    "    fz = Q2*(Lz/(Lx*Lx + Ly*Ly + Lz*Lz))*(Lx*diff(Lx,x) + Ly*diff(Ly,x) + Lz*diff(Lz,x))\n",
    "\n",
    "    fx += 2*Q2*psi2*Lx\n",
    "    fy += 2*Q2*psi2*Ly\n",
    "    fz += 2*Q2*psi2*Lz\n",
    "\n",
    "# Combine advective Q1 and Q2 terms\n",
    "if (1):\n",
    "    Lx  = Function('L_x')(x)\n",
    "    Ly  = Function('L_y')(x)\n",
    "    Lz  = Function('L_z')(x)\n",
    "    L = sqrt(Lx*Lx + Ly*Ly + Lz*Lz)\n",
    "    #psi2 = diff(Lx/L,x) + diff(Ly/L,x) + diff(Lz/L,x)\n",
    "    #psi = sqrt(psi2)\n",
    "    psi = Function('psi')(x)\n",
    "    #psi = (diff(lx,x) + diff(ly,x) + diff(lz,x))**(0.5)\n",
    "    psi2 = psi**2\n",
    "    Q1 = Function('Q1')(psi)\n",
    "    Q2 = Function('Q2')(psi)\n",
    "    \n",
    "    fx = -Q1*Lx\n",
    "    fy = -Q1*Ly\n",
    "    fz = -Q1*Lz\n",
    "    \n",
    "    fx += 2*Q1*(Lx/(Lx*Lx + Ly*Ly + Lz*Lz))*(Lx*diff(Lx,x) + Ly*diff(Ly,x) + Lz*diff(Lz,x))\n",
    "    fy += 2*Q1*(Ly/(Lx*Lx + Ly*Ly + Lz*Lz))*(Lx*diff(Lx,x) + Ly*diff(Ly,x) + Lz*diff(Lz,x))\n",
    "    fz += 2*Q1*(Lz/(Lx*Lx + Ly*Ly + Lz*Lz))*(Lx*diff(Lx,x) + Ly*diff(Ly,x) + Lz*diff(Lz,x))\n",
    "\n",
    "    fx += 2*diff(Q1,x)*Lx#diff(psi,x)#*diff(Q1,psi)*Lx\n",
    "    fy += 2*diff(Q1,x)*Ly#diff(psi,x)*diff(Q1,psi)*Ly\n",
    "    fz += 2*diff(Q1,x)*Lz#diff(psi,x)*diff(Q1,psi)*Lz\n",
    "\n",
    "    fx += Q2*(Lx/(Lx*Lx + Ly*Ly + Lz*Lz))*(Lx*diff(Lx,x) + Ly*diff(Ly,x) + Lz*diff(Lz,x))\n",
    "    fy += Q2*(Ly/(Lx*Lx + Ly*Ly + Lz*Lz))*(Lx*diff(Lx,x) + Ly*diff(Ly,x) + Lz*diff(Lz,x))\n",
    "    fz += Q2*(Lz/(Lx*Lx + Ly*Ly + Lz*Lz))*(Lx*diff(Lx,x) + Ly*diff(Ly,x) + Lz*diff(Lz,x))\n",
    "\n",
    "    fx += 2*Q2*psi2*Lx\n",
    "    fy += 2*Q2*psi2*Ly\n",
    "    fz += 2*Q2*psi2*Lz\n"
   ]
  },
  {
   "cell_type": "code",
   "execution_count": 19,
   "metadata": {},
   "outputs": [],
   "source": [
    "if (1):\n",
    "    A11 = diff(fx,Lx)\n",
    "    A12 = diff(fx,Ly)\n",
    "    A13 = diff(fx,Lz)\n",
    "    A21 = diff(fy,Lx)\n",
    "    A22 = diff(fy,Ly)\n",
    "    A23 = diff(fy,Lz)\n",
    "    A31 = diff(fz,Lx)\n",
    "    A32 = diff(fz,Ly)\n",
    "    A33 = diff(fz,Lz)\n",
    "if (0):\n",
    "    A11 = diff(fx,lx)\n",
    "    A12 = diff(fx,ly)\n",
    "    A13 = diff(fx,lz)\n",
    "    A21 = diff(fy,lx)\n",
    "    A22 = diff(fy,ly)\n",
    "    A23 = diff(fy,lz)\n",
    "    A31 = diff(fz,lx)\n",
    "    A32 = diff(fz,ly)\n",
    "    A33 = diff(fz,lz)"
   ]
  },
  {
   "cell_type": "code",
   "execution_count": 20,
   "metadata": {},
   "outputs": [
    {
     "name": "stdout",
     "output_type": "stream",
     "text": [
      "2*(L_x(x)*Derivative(L_x(x), x) + L_y(x)*Derivative(L_y(x), x) + L_z(x)*Derivative(L_z(x), x))*Q1(psi(x))/(L_x(x)**2 + L_y(x)**2 + L_z(x)**2) + (L_x(x)*Derivative(L_x(x), x) + L_y(x)*Derivative(L_y(x), x) + L_z(x)*Derivative(L_z(x), x))*Q2(psi(x))/(L_x(x)**2 + L_y(x)**2 + L_z(x)**2) - 4*(L_x(x)*Derivative(L_x(x), x) + L_y(x)*Derivative(L_y(x), x) + L_z(x)*Derivative(L_z(x), x))*L_x(x)**2*Q1(psi(x))/(L_x(x)**2 + L_y(x)**2 + L_z(x)**2)**2 - 2*(L_x(x)*Derivative(L_x(x), x) + L_y(x)*Derivative(L_y(x), x) + L_z(x)*Derivative(L_z(x), x))*L_x(x)**2*Q2(psi(x))/(L_x(x)**2 + L_y(x)**2 + L_z(x)**2)**2 - Q1(psi(x)) + 2*Q2(psi(x))*psi(x)**2 + 2*Derivative(Q1(psi(x)), psi(x))*Derivative(psi(x), x) + 2*L_x(x)*Q1(psi(x))*Derivative(L_x(x), x)/(L_x(x)**2 + L_y(x)**2 + L_z(x)**2) + L_x(x)*Q2(psi(x))*Derivative(L_x(x), x)/(L_x(x)**2 + L_y(x)**2 + L_z(x)**2)\n"
     ]
    }
   ],
   "source": [
    "Aij = Matrix([\n",
    "    [A11, A12, A13],\n",
    "    [A21, A22, A23],\n",
    "    [A31, A32, A33]\n",
    "])\n",
    "\n",
    "print A11"
   ]
  },
  {
   "cell_type": "code",
   "execution_count": 21,
   "metadata": {},
   "outputs": [],
   "source": [
    "Lambda = symbols(r'Lambda')\n",
    "Iij = Matrix([\n",
    "    [1, 0, 0],\n",
    "    [0, 1, 0],\n",
    "    [0, 0, 1]\n",
    "])\n",
    "matrix = Aij - Lambda*Iij"
   ]
  },
  {
   "cell_type": "code",
   "execution_count": 22,
   "metadata": {},
   "outputs": [],
   "source": [
    "determinant = matrix.det()"
   ]
  },
  {
   "cell_type": "code",
   "execution_count": 23,
   "metadata": {},
   "outputs": [
    {
     "data": {
      "image/png": "[encoded data removed]",
      "text/latex": [
       "$\\displaystyle \\frac{\\left(- \\Lambda - \\operatorname{Q_{1}}{\\left(\\psi{\\left(x \\right)} \\right)} + 2 \\operatorname{Q_{2}}{\\left(\\psi{\\left(x \\right)} \\right)} \\psi^{2}{\\left(x \\right)} + 2 \\frac{d}{d \\psi{\\left(x \\right)}} \\operatorname{Q_{1}}{\\left(\\psi{\\left(x \\right)} \\right)} \\frac{d}{d x} \\psi{\\left(x \\right)}\\right) \\left(- \\Lambda \\operatorname{L_{x}}^{2}{\\left(x \\right)} - \\Lambda \\operatorname{L_{y}}^{2}{\\left(x \\right)} - \\Lambda \\operatorname{L_{z}}^{2}{\\left(x \\right)} - \\operatorname{L_{x}}^{2}{\\left(x \\right)} \\operatorname{Q_{1}}{\\left(\\psi{\\left(x \\right)} \\right)} + 2 \\operatorname{L_{x}}^{2}{\\left(x \\right)} \\operatorname{Q_{2}}{\\left(\\psi{\\left(x \\right)} \\right)} \\psi^{2}{\\left(x \\right)} + 2 \\operatorname{L_{x}}^{2}{\\left(x \\right)} \\frac{d}{d \\psi{\\left(x \\right)}} \\operatorname{Q_{1}}{\\left(\\psi{\\left(x \\right)} \\right)} \\frac{d}{d x} \\psi{\\left(x \\right)} + 2 \\operatorname{L_{x}}{\\left(x \\right)} \\operatorname{Q_{1}}{\\left(\\psi{\\left(x \\right)} \\right)} \\frac{d}{d x} \\operatorname{L_{x}}{\\left(x \\right)} + \\operatorname{L_{x}}{\\left(x \\right)} \\operatorname{Q_{2}}{\\left(\\psi{\\left(x \\right)} \\right)} \\frac{d}{d x} \\operatorname{L_{x}}{\\left(x \\right)} - \\operatorname{L_{y}}^{2}{\\left(x \\right)} \\operatorname{Q_{1}}{\\left(\\psi{\\left(x \\right)} \\right)} + 2 \\operatorname{L_{y}}^{2}{\\left(x \\right)} \\operatorname{Q_{2}}{\\left(\\psi{\\left(x \\right)} \\right)} \\psi^{2}{\\left(x \\right)} + 2 \\operatorname{L_{y}}^{2}{\\left(x \\right)} \\frac{d}{d \\psi{\\left(x \\right)}} \\operatorname{Q_{1}}{\\left(\\psi{\\left(x \\right)} \\right)} \\frac{d}{d x} \\psi{\\left(x \\right)} + 2 \\operatorname{L_{y}}{\\left(x \\right)} \\operatorname{Q_{1}}{\\left(\\psi{\\left(x \\right)} \\right)} \\frac{d}{d x} \\operatorname{L_{y}}{\\left(x \\right)} + \\operatorname{L_{y}}{\\left(x \\right)} \\operatorname{Q_{2}}{\\left(\\psi{\\left(x \\right)} \\right)} \\frac{d}{d x} \\operatorname{L_{y}}{\\left(x \\right)} - \\operatorname{L_{z}}^{2}{\\left(x \\right)} \\operatorname{Q_{1}}{\\left(\\psi{\\left(x \\right)} \\right)} + 2 \\operatorname{L_{z}}^{2}{\\left(x \\right)} \\operatorname{Q_{2}}{\\left(\\psi{\\left(x \\right)} \\right)} \\psi^{2}{\\left(x \\right)} + 2 \\operatorname{L_{z}}^{2}{\\left(x \\right)} \\frac{d}{d \\psi{\\left(x \\right)}} \\operatorname{Q_{1}}{\\left(\\psi{\\left(x \\right)} \\right)} \\frac{d}{d x} \\psi{\\left(x \\right)} + 2 \\operatorname{L_{z}}{\\left(x \\right)} \\operatorname{Q_{1}}{\\left(\\psi{\\left(x \\right)} \\right)} \\frac{d}{d x} \\operatorname{L_{z}}{\\left(x \\right)} + \\operatorname{L_{z}}{\\left(x \\right)} \\operatorname{Q_{2}}{\\left(\\psi{\\left(x \\right)} \\right)} \\frac{d}{d x} \\operatorname{L_{z}}{\\left(x \\right)}\\right)^{2}}{\\left(\\operatorname{L_{x}}^{2}{\\left(x \\right)} + \\operatorname{L_{y}}^{2}{\\left(x \\right)} + \\operatorname{L_{z}}^{2}{\\left(x \\right)}\\right)^{2}}$"
      ],
      "text/plain": [
       "                                                                              \n",
       "⎛                            2          d             d       ⎞ ⎛      2      \n",
       "⎜-Λ - Q₁(ψ(x)) + 2⋅Q₂(ψ(x))⋅ψ (x) + 2⋅─────(Q₁(ψ(x)))⋅──(ψ(x))⎟⋅⎜- Λ⋅Lₓ (x) - \n",
       "⎝                                     dψ(x)           dx      ⎠ ⎝             \n",
       "──────────────────────────────────────────────────────────────────────────────\n",
       "                                                                              \n",
       "                                                                              \n",
       "                                                                              \n",
       "\n",
       "                                                                              \n",
       "     2           2        2                   2              2          2     \n",
       "Λ⋅L_y (x) - Λ⋅L_z (x) - Lₓ (x)⋅Q₁(ψ(x)) + 2⋅Lₓ (x)⋅Q₂(ψ(x))⋅ψ (x) + 2⋅Lₓ (x)⋅─\n",
       "                                                                             d\n",
       "──────────────────────────────────────────────────────────────────────────────\n",
       "                                                                              \n",
       "                                                                              \n",
       "                                                                              \n",
       "\n",
       "                                                                              \n",
       " d             d                           d                          d       \n",
       "────(Q₁(ψ(x)))⋅──(ψ(x)) + 2⋅Lₓ(x)⋅Q₁(ψ(x))⋅──(Lₓ(x)) + Lₓ(x)⋅Q₂(ψ(x))⋅──(Lₓ(x)\n",
       "ψ(x)           dx                          dx                         dx      \n",
       "──────────────────────────────────────────────────────────────────────────────\n",
       "                                                                              \n",
       "                                                                              \n",
       "                                                                              \n",
       "\n",
       "                                                                              \n",
       "       2                    2              2           2      d             d \n",
       ") - L_y (x)⋅Q₁(ψ(x)) + 2⋅L_y (x)⋅Q₂(ψ(x))⋅ψ (x) + 2⋅L_y (x)⋅─────(Q₁(ψ(x)))⋅──\n",
       "                                                            dψ(x)           dx\n",
       "──────────────────────────────────────────────────────────────────────────────\n",
       "                                         2                                    \n",
       "             ⎛  2         2         2   ⎞                                     \n",
       "             ⎝Lₓ (x) + L_y (x) + L_z (x)⎠                                     \n",
       "\n",
       "                                                                              \n",
       "                           d                            d               2     \n",
       "(ψ(x)) + 2⋅L_y(x)⋅Q₁(ψ(x))⋅──(L_y(x)) + L_y(x)⋅Q₂(ψ(x))⋅──(L_y(x)) - L_z (x)⋅Q\n",
       "                           dx                           dx                    \n",
       "──────────────────────────────────────────────────────────────────────────────\n",
       "                                                                              \n",
       "                                                                              \n",
       "                                                                              \n",
       "\n",
       "                                                                              \n",
       "               2              2           2      d             d              \n",
       "₁(ψ(x)) + 2⋅L_z (x)⋅Q₂(ψ(x))⋅ψ (x) + 2⋅L_z (x)⋅─────(Q₁(ψ(x)))⋅──(ψ(x)) + 2⋅L_\n",
       "                                               dψ(x)           dx             \n",
       "──────────────────────────────────────────────────────────────────────────────\n",
       "                                                                              \n",
       "                                                                              \n",
       "                                                                              \n",
       "\n",
       "                                                      2\n",
       "              d                            d         ⎞ \n",
       "z(x)⋅Q₁(ψ(x))⋅──(L_z(x)) + L_z(x)⋅Q₂(ψ(x))⋅──(L_z(x))⎟ \n",
       "              dx                           dx        ⎠ \n",
       "───────────────────────────────────────────────────────\n",
       "                                                       \n",
       "                                                       \n",
       "                                                       "
      ]
     },
     "execution_count": 23,
     "metadata": {},
     "output_type": "execute_result"
    }
   ],
   "source": [
    "factor(determinant)"
   ]
  },
  {
   "cell_type": "code",
   "execution_count": 24,
   "metadata": {},
   "outputs": [
    {
     "data": {
      "image/png": "[encoded data removed]",
      "text/latex": [
       "$\\displaystyle \\left[ \\frac{- \\operatorname{L_{x}}^{2}{\\left(x \\right)} \\operatorname{Q_{1}}{\\left(\\psi{\\left(x \\right)} \\right)} + 2 \\operatorname{L_{x}}^{2}{\\left(x \\right)} \\operatorname{Q_{2}}{\\left(\\psi{\\left(x \\right)} \\right)} \\psi^{2}{\\left(x \\right)} + 2 \\operatorname{L_{x}}^{2}{\\left(x \\right)} \\frac{d}{d \\psi{\\left(x \\right)}} \\operatorname{Q_{1}}{\\left(\\psi{\\left(x \\right)} \\right)} \\frac{d}{d x} \\psi{\\left(x \\right)} + 2 \\operatorname{L_{x}}{\\left(x \\right)} \\operatorname{Q_{1}}{\\left(\\psi{\\left(x \\right)} \\right)} \\frac{d}{d x} \\operatorname{L_{x}}{\\left(x \\right)} + \\operatorname{L_{x}}{\\left(x \\right)} \\operatorname{Q_{2}}{\\left(\\psi{\\left(x \\right)} \\right)} \\frac{d}{d x} \\operatorname{L_{x}}{\\left(x \\right)} - \\operatorname{L_{y}}^{2}{\\left(x \\right)} \\operatorname{Q_{1}}{\\left(\\psi{\\left(x \\right)} \\right)} + 2 \\operatorname{L_{y}}^{2}{\\left(x \\right)} \\operatorname{Q_{2}}{\\left(\\psi{\\left(x \\right)} \\right)} \\psi^{2}{\\left(x \\right)} + 2 \\operatorname{L_{y}}^{2}{\\left(x \\right)} \\frac{d}{d \\psi{\\left(x \\right)}} \\operatorname{Q_{1}}{\\left(\\psi{\\left(x \\right)} \\right)} \\frac{d}{d x} \\psi{\\left(x \\right)} + 2 \\operatorname{L_{y}}{\\left(x \\right)} \\operatorname{Q_{1}}{\\left(\\psi{\\left(x \\right)} \\right)} \\frac{d}{d x} \\operatorname{L_{y}}{\\left(x \\right)} + \\operatorname{L_{y}}{\\left(x \\right)} \\operatorname{Q_{2}}{\\left(\\psi{\\left(x \\right)} \\right)} \\frac{d}{d x} \\operatorname{L_{y}}{\\left(x \\right)} - \\operatorname{L_{z}}^{2}{\\left(x \\right)} \\operatorname{Q_{1}}{\\left(\\psi{\\left(x \\right)} \\right)} + 2 \\operatorname{L_{z}}^{2}{\\left(x \\right)} \\operatorname{Q_{2}}{\\left(\\psi{\\left(x \\right)} \\right)} \\psi^{2}{\\left(x \\right)} + 2 \\operatorname{L_{z}}^{2}{\\left(x \\right)} \\frac{d}{d \\psi{\\left(x \\right)}} \\operatorname{Q_{1}}{\\left(\\psi{\\left(x \\right)} \\right)} \\frac{d}{d x} \\psi{\\left(x \\right)} + 2 \\operatorname{L_{z}}{\\left(x \\right)} \\operatorname{Q_{1}}{\\left(\\psi{\\left(x \\right)} \\right)} \\frac{d}{d x} \\operatorname{L_{z}}{\\left(x \\right)} + \\operatorname{L_{z}}{\\left(x \\right)} \\operatorname{Q_{2}}{\\left(\\psi{\\left(x \\right)} \\right)} \\frac{d}{d x} \\operatorname{L_{z}}{\\left(x \\right)}}{\\operatorname{L_{x}}^{2}{\\left(x \\right)} + \\operatorname{L_{y}}^{2}{\\left(x \\right)} + \\operatorname{L_{z}}^{2}{\\left(x \\right)}}, \\  - \\operatorname{Q_{1}}{\\left(\\psi{\\left(x \\right)} \\right)} + 2 \\operatorname{Q_{2}}{\\left(\\psi{\\left(x \\right)} \\right)} \\psi^{2}{\\left(x \\right)} + 2 \\frac{d}{d \\psi{\\left(x \\right)}} \\operatorname{Q_{1}}{\\left(\\psi{\\left(x \\right)} \\right)} \\frac{d}{d x} \\psi{\\left(x \\right)}\\right]$"
      ],
      "text/plain": [
       "⎡    2                   2              2          2      d             d     \n",
       "⎢- Lₓ (x)⋅Q₁(ψ(x)) + 2⋅Lₓ (x)⋅Q₂(ψ(x))⋅ψ (x) + 2⋅Lₓ (x)⋅─────(Q₁(ψ(x)))⋅──(ψ(x\n",
       "⎢                                                       dψ(x)           dx    \n",
       "⎢─────────────────────────────────────────────────────────────────────────────\n",
       "⎢                                                                             \n",
       "⎣                                                                             \n",
       "\n",
       "                      d                          d              2             \n",
       ")) + 2⋅Lₓ(x)⋅Q₁(ψ(x))⋅──(Lₓ(x)) + Lₓ(x)⋅Q₂(ψ(x))⋅──(Lₓ(x)) - L_y (x)⋅Q₁(ψ(x)) \n",
       "                      dx                         dx                           \n",
       "──────────────────────────────────────────────────────────────────────────────\n",
       "                                                                              \n",
       "                                                                              \n",
       "\n",
       "       2              2           2      d             d                      \n",
       "+ 2⋅L_y (x)⋅Q₂(ψ(x))⋅ψ (x) + 2⋅L_y (x)⋅─────(Q₁(ψ(x)))⋅──(ψ(x)) + 2⋅L_y(x)⋅Q₁(\n",
       "                                       dψ(x)           dx                     \n",
       "──────────────────────────────────────────────────────────────────────────────\n",
       "                                             2         2         2            \n",
       "                                           Lₓ (x) + L_y (x) + L_z (x)         \n",
       "\n",
       "      d                            d               2                    2     \n",
       "ψ(x))⋅──(L_y(x)) + L_y(x)⋅Q₂(ψ(x))⋅──(L_y(x)) - L_z (x)⋅Q₁(ψ(x)) + 2⋅L_z (x)⋅Q\n",
       "      dx                           dx                                         \n",
       "──────────────────────────────────────────────────────────────────────────────\n",
       "                                                                              \n",
       "                                                                              \n",
       "\n",
       "         2           2      d             d                            d      \n",
       "₂(ψ(x))⋅ψ (x) + 2⋅L_z (x)⋅─────(Q₁(ψ(x)))⋅──(ψ(x)) + 2⋅L_z(x)⋅Q₁(ψ(x))⋅──(L_z(\n",
       "                          dψ(x)           dx                           dx     \n",
       "──────────────────────────────────────────────────────────────────────────────\n",
       "                                                                              \n",
       "                                                                              \n",
       "\n",
       "                      d                                                       \n",
       "x)) + L_z(x)⋅Q₂(ψ(x))⋅──(L_z(x))                                              \n",
       "                      dx                                  2          d        \n",
       "────────────────────────────────, -Q₁(ψ(x)) + 2⋅Q₂(ψ(x))⋅ψ (x) + 2⋅─────(Q₁(ψ(\n",
       "                                                                   dψ(x)      \n",
       "                                                                              \n",
       "\n",
       "             ⎤\n",
       "             ⎥\n",
       "     d       ⎥\n",
       "x)))⋅──(ψ(x))⎥\n",
       "     dx      ⎥\n",
       "             ⎦"
      ]
     },
     "execution_count": 24,
     "metadata": {},
     "output_type": "execute_result"
    }
   ],
   "source": [
    "solve(determinant,Lambda)"
   ]
  },
  {
   "cell_type": "markdown",
   "metadata": {},
   "source": [
    "## Change of variables: \n",
    "### $\\vec{\\Lambda} \\equiv I\\Omega^2r^2\\vec{l}$\n",
    "### $ x \\equiv {\\rm ln}\\,r$\n",
    "### $ \\tau \\equiv \\Omega^{-1}t$"
   ]
  },
  {
   "cell_type": "markdown",
   "metadata": {},
   "source": [
    "## Some other definitions: \n",
    "### $I \\equiv \\frac{1}{2\\pi}\\int_0^{2\\pi}\\int_{-\\infty}^{\\infty}\\rho z^2 dz d\\phi = \\Sigma (h/r)^2r^2$ (if $\\gamma = 1$) \n",
    "### $\\Omega = r^{-3/2}$ (Keplerian, $G=M=1$)\n",
    "### $\\psi \\equiv |\\frac{\\partial}{\\partial x}\\frac{\\vec{\\Lambda}}{\\Lambda}|$\n",
    "### $Q_1 = Q_1(\\psi)$\n",
    "### $Q_2 = Q_2(\\psi)$\n",
    "### $Q_3 = Q_3(\\psi)$"
   ]
  },
  {
   "cell_type": "markdown",
   "metadata": {},
   "source": [
    "## We want conservative form:\n",
    "### $\\partial_{\\tau}\\vec{\\Lambda} + \\partial_x(\\vec{F}(\\vec{\\Lambda},\\vec{\\Lambda}_x)) = 0$"
   ]
  },
  {
   "cell_type": "markdown",
   "metadata": {},
   "source": [
    "### (Ex: $\\partial_t\\rho + \\partial_x(\\rho v) = 0$)"
   ]
  },
  {
   "cell_type": "markdown",
   "metadata": {},
   "source": [
    "## Can write fluxes in form:\n",
    "### $\\vec{F} = (2\\frac{\\partial\\psi}{\\partial x}\\frac{\\partial Q_1}{\\partial \\psi} - Q_1 + \\frac{2Q_1}{\\Lambda}\\partial_x\\Lambda)\\vec{\\Lambda} \\\\ + (\\frac{Q_2}{\\Lambda^2}\\Lambda_i\\partial_x\\Lambda_i + 2Q_2\\psi^2)\\vec{\\Lambda} \\\\ - Q_2\\partial_x\\vec{\\Lambda} \\\\ - Q_3\\vec{\\Lambda}\\times\\frac{\\partial}{\\partial x}(\\frac{\\vec{\\Lambda}}{\\Lambda})$"
   ]
  },
  {
   "cell_type": "markdown",
   "metadata": {},
   "source": [
    "## Can write fluxes in form:\n",
    "### $\\vec{F} = (2\\frac{\\partial\\psi}{\\partial x}\\frac{\\partial Q_1}{\\partial \\psi} - Q_1 + \\frac{2Q_1}{\\Lambda^2}\\Lambda_i\\partial_x\\Lambda_i)\\vec{\\Lambda} \\\\ + (\\frac{Q_2}{\\Lambda^2}\\Lambda_i\\partial_x\\Lambda_i + 2Q_2\\psi^2)\\vec{\\Lambda} \\\\ - Q_2\\partial_x\\vec{\\Lambda} \\\\ - Q_3\\vec{\\Lambda}\\times\\frac{\\partial}{\\partial x}(\\frac{\\vec{\\Lambda}}{\\Lambda})$"
   ]
  },
  {
   "cell_type": "markdown",
   "metadata": {},
   "source": [
    "## Eigenvalues of each term?"
   ]
  },
  {
   "cell_type": "markdown",
   "metadata": {},
   "source": [
    "### $\\vec{f} = -Q_1\\vec{\\Lambda} \\rightarrow v = -Q_1$"
   ]
  },
  {
   "cell_type": "markdown",
   "metadata": {},
   "source": [
    "### $\\vec{f} = \\frac{1}{\\Lambda^2}\\Lambda_i\\partial_x\\Lambda_i\\vec{\\Lambda} \\rightarrow v = \\frac{1}{\\Lambda^2}\\Lambda_i\\partial_x\\Lambda_i$"
   ]
  },
  {
   "cell_type": "markdown",
   "metadata": {},
   "source": [
    "## Lets do eigenvalues for each $Q_i$ term that is quasi-linear with $\\vec{\\Lambda}$"
   ]
  },
  {
   "cell_type": "markdown",
   "metadata": {},
   "source": [
    "## $Q_1$:\n",
    "### $\\vec{f} = (2\\frac{\\partial\\psi}{\\partial x}\\frac{\\partial Q_1}{\\partial \\psi} - Q_1 + \\frac{2Q_1}{\\Lambda^2}\\Lambda_i\\partial_x\\Lambda_i)\\vec{\\Lambda} \\\\ \\rightarrow v = \\left[\\frac{1}{\\Lambda^2}(-\\Lambda_i^2Q_1 + 2\\Lambda_i^2\\frac{dQ_1}{d\\psi}\\frac{d\\psi}{dx} + 2Q_1\\Lambda_i\\frac{d\\Lambda_i}{dx}), \\\\ \\qquad\\qquad-Q_1 + 2\\frac{dQ_1}{d\\psi}\\frac{d\\psi}{dx}\\right]$"
   ]
  },
  {
   "cell_type": "markdown",
   "metadata": {},
   "source": [
    "## $Q_2:$ \n",
    "### $\\vec{f} = (\\frac{Q_2}{\\Lambda^2}\\Lambda_i\\partial_x\\Lambda_i + 2Q_2\\psi^2)\\vec{\\Lambda} \\\\ \\rightarrow v = \\left[\\frac{Q_2}{\\Lambda^2}(2\\Lambda_i^2\\psi^2 + \\Lambda_i\\frac{d\\Lambda_i}{dx}),\\\\ \\qquad\\qquad 2Q_2\\psi^2\\right]$"
   ]
  },
  {
   "cell_type": "markdown",
   "metadata": {},
   "source": [
    "## $Q_1 + Q_2:$\n",
    "### $\\vec{f} = (2\\frac{\\partial\\psi}{\\partial x}\\frac{\\partial Q_1}{\\partial \\psi} - Q_1 + \\frac{2Q_1}{\\Lambda^2}\\Lambda_i\\partial_x\\Lambda_i + \\frac{Q_2}{\\Lambda^2}\\Lambda_i\\partial_x\\Lambda_i + 2Q_2\\psi^2)\\vec{\\Lambda} \\\\ \\rightarrow v = \\left[\\frac{1}{\\Lambda^2}\\left(\\Lambda_i^2(-Q_1 + 2Q_2\\psi^2 + 2\\frac{\\partial Q_1}{\\partial \\psi}\\frac{\\partial \\psi}{\\partial x}) + \\Lambda_i\\frac{\\partial \\Lambda_i}{\\partial x}(2Q_1 + Q_2)\\right),\\\\ \\qquad\\qquad -Q_1 + 2\\frac{dQ_1}{d\\psi}\\frac{d\\psi}{dx} + 2Q_2\\psi^2\\right]$"
   ]
  },
  {
   "cell_type": "code",
   "execution_count": null,
   "metadata": {},
   "outputs": [],
   "source": []
  }
 ],
 "metadata": {
  "kernelspec": {
   "display_name": "Python 2",
   "language": "python",
   "name": "python2"
  },
  "language_info": {
   "codemirror_mode": {
    "name": "ipython",
    "version": 2
   },
   "file_extension": ".py",
   "mimetype": "text/x-python",
   "name": "python",
   "nbconvert_exporter": "python",
   "pygments_lexer": "ipython2",
   "version": "2.7.15+"
  }
 },
 "nbformat": 4,
 "nbformat_minor": 2
}
