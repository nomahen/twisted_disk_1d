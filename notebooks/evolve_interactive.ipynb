{
 "cells": [
  {
   "cell_type": "code",
   "execution_count": null,
   "metadata": {},
   "outputs": [],
   "source": [
    "import numpy as np\n",
    "import matplotlib.pyplot as plt\n",
    "from scipy.interpolate import interp1d\n",
    "%matplotlib inline"
   ]
  },
  {
   "cell_type": "markdown",
   "metadata": {},
   "source": [
    "## From Nixon & King 2012\n",
    "### $\\partial_t\\vec{L} =\\,...$"
   ]
  },
  {
   "cell_type": "markdown",
   "metadata": {},
   "source": [
    "### term 1: $...\\,\\frac{1}{r}\\partial_r\\left\\{\\frac{\\partial_r\\left[\\nu_1\\Sigma r^3(-\\Omega')\\right]}{\\Sigma\\partial_r(r^2\\Omega)}\\vec{L}\\right\\} = \\frac{3}{r}\\partial_r\\left\\{\\frac{r}{|\\vec{L}|}\\partial_r\\left[\\nu_1|\\vec{L}|\\right]\\vec{L}\\right\\}$"
   ]
  },
  {
   "cell_type": "markdown",
   "metadata": {},
   "source": [
    "### term 2: $...\\,+\\,\\frac{1}{r}\\partial_r\\left[\\frac{1}{2}\\nu_2r|\\vec{L}|\\partial_r\\vec{l}\\right]$"
   ]
  },
  {
   "cell_type": "markdown",
   "metadata": {},
   "source": [
    "### term 3: $...\\,+\\,\\frac{1}{r}\\partial_r\\left\\{\\left[\\frac{\\frac{1}{2}\\nu_2r^3\\Omega|\\partial_r\\vec{l}|^2}{\\partial_r(r^2\\Omega)} + \\nu_1(\\frac{r\\Omega'}{\\Omega})\\right]\\vec{L}\\right\\} = \\frac{1}{r}\\partial_r\\left\\{\\left[\\nu_2r^2(\\partial_r\\vec{l})^2 - \\frac{3}{2}\\nu_1\\right]\\vec{L}\\right\\}$"
   ]
  },
  {
   "cell_type": "markdown",
   "metadata": {},
   "source": [
    "### term 4: $...\\,+\\,\\frac{1}{r}\\partial_r\\left\\{\\nu_3r\\vec{L}\\times\\partial_r\\vec{l}\\right\\}$"
   ]
  },
  {
   "cell_type": "markdown",
   "metadata": {},
   "source": [
    "### term 5: $...\\,+\\,\\vec{\\Omega}_p\\times\\vec{L}$"
   ]
  },
  {
   "cell_type": "markdown",
   "metadata": {},
   "source": [
    "### And now we want to discretize this, so for convenience, lets just try it term by term...."
   ]
  },
  {
   "cell_type": "markdown",
   "metadata": {},
   "source": [
    "### $\\vec{L}^{n+1}_i = \\vec{L}^n_i + \\Delta t(\\vec{f}_{1,i} + \\vec{f}_{2,i} + \\vec{f}_{3,i} + \\vec{f}_{4,i} + \\vec{f}_{5,i})$"
   ]
  },
  {
   "cell_type": "markdown",
   "metadata": {},
   "source": [
    "### $\\vec{f}_{1,i} \\approx \\frac{3}{4r_i}\\frac{1}{\\Delta r^2}\\left[(r_{i+1} + r_{i})(\\vec{l}_{i+1} + \\vec{l}_{i})\\left(\\nu_{1,i+1}|\\vec{L}|_{i+1} - \\nu_{1,i}|\\vec{L}|_{i}\\right) - (r_{i} + r_{i-1})(\\vec{l}_{i} + \\vec{l}_{i-1})\\left(\\nu_{1,i}|\\vec{L}|_{i} - \\nu_{1,i-1}|\\vec{L}|_{i-1}\\right)\\right]$"
   ]
  },
  {
   "cell_type": "markdown",
   "metadata": {},
   "source": [
    "### $\\vec{f}_{2,i} \\approx \\frac{1}{16r_i}\\frac{1}{\\Delta r^2}\\left[(\\nu_{2,i+1}+\\nu_{2,i})(r_{i+1} + r_{i})(|\\vec{L}|_{i+1} + |\\vec{L}|_{i})(\\vec{l}_{i+1} - \\vec{l}_{i}) - (\\nu_{2,i}+\\nu_{2,i-1})(r_{i} + r_{i-1})(|\\vec{L}|_{i} + |\\vec{L}|_{i-1})(\\vec{l}_{i} - \\vec{l}_{i-1})\\right]$"
   ]
  },
  {
   "cell_type": "markdown",
   "metadata": {},
   "source": [
    "### $\\vec{f}_{3,i} \\approx \\frac{1}{8r_i}\\frac{1}{\\Delta r^3}\\left\\{\\left[\\frac{1}{2}(\\nu_{2,i+1} + \\nu_{2,i})(r_{i+1} + r_{i})^2(\\vec{l}_{i+1}-\\vec{l}_{i})^2 - 3(\\nu_{1,i+1}+\\nu_{1,i})\\right](\\vec{L}_{i+1}+\\vec{L}_{i}) - \\left[\\frac{1}{2}(\\nu_{2,i} + \\nu_{2,i-1})(r_{i} + r_{i-1})^2(\\vec{l}_{i}-\\vec{l}_{i-1})^2 - 3(\\nu_{1,i}+\\nu_{1,i-1})\\right](\\vec{L}_{i}+\\vec{L}_{i-1})\\right\\}$"
   ]
  },
  {
   "cell_type": "markdown",
   "metadata": {},
   "source": [
    "### We will write $\\vec{f}_{4,i}$ in terms of its $x$, $y$ and $z$ components because of the cross product"
   ]
  },
  {
   "cell_type": "markdown",
   "metadata": {},
   "source": [
    "### $(\\vec{f}_{4,i})_x \\approx \\frac{1}{8r_i}\\frac{1}{\\Delta r_i^2}\\left\\{(\\nu_{3,i+1}+\\nu_{3,i})(r_{i+1}+r_{i})\\left[(\\vec{L}_{i+1}+\\vec{L}_{i})_y(\\vec{l}_{i+1}-\\vec{l}_{i})_z - (\\vec{L}_{i+1}+\\vec{L}_{i})_z(\\vec{l}_{i+1}-\\vec{l}_{i})_y\\right] - (\\nu_{3,i}+\\nu_{3,i-1})(r_{i}+r_{i-1})\\left[(\\vec{L}_{i}+\\vec{L}_{i-1})_y(\\vec{l}_{i}-\\vec{l}_{i-1})_z - (\\vec{L}_{i}+\\vec{L}_{i-1})_z(\\vec{l}_{i}-\\vec{l}_{i-1})_y\\right]\\right\\}$"
   ]
  },
  {
   "cell_type": "markdown",
   "metadata": {},
   "source": [
    "### $(\\vec{f}_{4,i})_y \\approx \\frac{1}{8r_i}\\frac{1}{\\Delta r_i^2}\\left\\{(\\nu_{3,i+1}+\\nu_{3,i})(r_{i+1}+r_{i})\\left[(\\vec{L}_{i+1}+\\vec{L}_{i})_z(\\vec{l}_{i+1}-\\vec{l}_{i})_x - (\\vec{L}_{i+1}+\\vec{L}_{i})_x(\\vec{l}_{i+1}-\\vec{l}_{i})_z\\right] - (\\nu_{3,i}+\\nu_{3,i-1})(r_{i}+r_{i-1})\\left[(\\vec{L}_{i}+\\vec{L}_{i-1})_z(\\vec{l}_{i}-\\vec{l}_{i-1})_x - (\\vec{L}_{i}+\\vec{L}_{i-1})_x(\\vec{l}_{i}-\\vec{l}_{i-1})_z\\right]\\right\\}$"
   ]
  },
  {
   "cell_type": "markdown",
   "metadata": {},
   "source": [
    "### $(\\vec{f}_{4,i})_z \\approx \\frac{1}{8r_i}\\frac{1}{\\Delta r_i^2}\\left\\{(\\nu_{3,i+1}+\\nu_{3,i})(r_{i+1}+r_{i})\\left[(\\vec{L}_{i+1}+\\vec{L}_{i})_x(\\vec{l}_{i+1}-\\vec{l}_{i})_y - (\\vec{L}_{i+1}+\\vec{L}_{i})_y(\\vec{l}_{i+1}-\\vec{l}_{i})_x\\right] - (\\nu_{3,i}+\\nu_{3,i-1})(r_{i}+r_{i-1})\\left[(\\vec{L}_{i}+\\vec{L}_{i-1})_x(\\vec{l}_{i}-\\vec{l}_{i-1})_y - (\\vec{L}_{i}+\\vec{L}_{i-1})_y(\\vec{l}_{i}-\\vec{l}_{i-1})_x\\right]\\right\\}$"
   ]
  },
  {
   "cell_type": "markdown",
   "metadata": {},
   "source": [
    "### $\\vec{f}_{5,i} = (\\Omega_p)_i(-(\\vec{L}_i)_{y}\\hat{x} + (\\vec{L}_i)_{x}\\hat{y})$"
   ]
  },
  {
   "cell_type": "markdown",
   "metadata": {},
   "source": [
    "### Lets declare global constants now"
   ]
  },
  {
   "cell_type": "code",
   "execution_count": 4,
   "metadata": {},
   "outputs": [],
   "source": [
    "#########\n",
    "## User Params\n",
    "\n",
    "## Physics\n",
    "H_R = 10**(-3.)#0.015\n",
    "alpha = 0.2\n",
    "gamma = 1.0\n",
    "tilt = 10*(np.pi/180.0)\n",
    "r0 = 3000.0 # mid point of density distribution\n",
    "rw = 300.0  # width of density distribution\n",
    "bhspin = 1.0\n",
    "dolog = True\n",
    "\n",
    "## Numerical\n",
    "cfl = 0.5\n",
    "tmax = 1 # max runtime of simulation; units of t_viscous\n",
    "dt_init   = 1e-9  # initial timestep of simulation; units of t_viscous\n",
    "rmin  = 60.0  # inner radius of disk\n",
    "rmax  = 6000.0 # outer radius of disk\n",
    "ngrid = 100 # number of grid points"
   ]
  },
  {
   "cell_type": "code",
   "execution_count": 5,
   "metadata": {},
   "outputs": [],
   "source": [
    "# Build Q1, Q2, Q3 functions\n",
    "\n",
    "def load_Q(path):\n",
    "    data = open(path,\"r\")\n",
    "    parsed = []\n",
    "    for line in data:\n",
    "        parsed.append(np.array(line.split()).astype(float))\n",
    "    return np.array(parsed)[:,0]\n",
    "\n",
    "Q1_path = \"../tables/Q1_1d_a0.2_p0.0_g1.0_np30_ng10000.txt\"\n",
    "Q2_path = \"../tables/Q2_1d_a0.2_p0.0_g1.0_np30_ng10000.txt\"\n",
    "Q3_path = \"../tables/Q3_1d_a0.2_p0.0_g1.0_np30_ng10000.txt\"\n",
    "Q1_parsed = load_Q(Q1_path)\n",
    "Q2_parsed = load_Q(Q2_path)\n",
    "Q3_parsed = load_Q(Q3_path)\n",
    "\n",
    "s_arr = np.logspace(0,np.log10(11),30) - 1\n",
    "Q1_func = interp1d(s_arr,np.log10(-Q1_parsed + 1e-30),fill_value='extrapolate')\n",
    "Q2_func = interp1d(s_arr,np.log10(Q2_parsed + 1e-30),fill_value='extrapolate')\n",
    "Q3_func = interp1d(s_arr,np.log10(Q3_parsed + 1e-30),fill_value='extrapolate')"
   ]
  },
  {
   "cell_type": "code",
   "execution_count": 6,
   "metadata": {},
   "outputs": [
    {
     "name": "stdout",
     "output_type": "stream",
     "text": [
      "tmax/t_viscous:  1.0\n",
      "dt_init/t_viscous:  1e-09\n"
     ]
    }
   ],
   "source": [
    "# ## Initializations\n",
    "# radial quantities\n",
    "if dolog:\n",
    "    r = np.logspace(np.log10(rmin),np.log10(rmax),ngrid)\n",
    "    dr = r[1:-1]*np.log(10)*(np.log10(r)[2:] - np.log10(r)[:-2])\n",
    "else:\n",
    "    r = np.linspace(rmin,rmax,ngrid)\n",
    "    dr = r[2:] - r[:-2]\n",
    "\n",
    "omega = r**(-3.0/2.0)\n",
    "#density = np.sin(10.0*2.0*np.pi*radii/100.0) + 1.0\n",
    "#density = np.ones(ngrid)\n",
    "density = (1.0/(rw*np.sqrt(2.0*np.pi))) * np.exp(-0.5*((r - r0)/rw)**2.0)\n",
    "density /= np.average(density)\n",
    "amom_mag = density * omega * r**2.0\n",
    "\n",
    "# generate radial profile of angular momentum vectors\n",
    "amom_unit   = np.array([np.sin(tilt),0.0,np.cos(tilt)])\n",
    "amom_uvector = np.array([amom_unit]*ngrid)\n",
    "amom_vector = np.copy(amom_uvector)\n",
    "for i in range(3): amom_vector[:,i] *= amom_mag\n",
    "    \n",
    "# for Lense-Thirring Precession\n",
    "omega_p = np.zeros(3*ngrid)\n",
    "omega_p = np.reshape(omega_p,(ngrid,3))\n",
    "omega_p[:,2] = 2.0 * bhspin / r**3.0 # Black hole spin is in z direction\n",
    "\n",
    "# calculate viscous time\n",
    "nu_ref = (-2.0/3.0)*(-1.0*10**(Q1_func(0)))*((H_R**2.0)*r0**0.5)\n",
    "t_viscous = r0*r0/nu_ref\n",
    "tmax = tmax*t_viscous\n",
    "dt_init = dt_init*t_viscous\n",
    "print \"tmax/t_viscous: \", tmax/t_viscous\n",
    "print \"dt_init/t_viscous: \", dt_init/t_viscous"
   ]
  },
  {
   "cell_type": "code",
   "execution_count": 19,
   "metadata": {},
   "outputs": [],
   "source": [
    "def evolve():\n",
    "    # Get initial timestep\n",
    "    dt = np.copy(dt_init)\n",
    "    \n",
    "    # Initialize angular momentum array to initial condition\n",
    "    L = np.copy(amom_vector)\n",
    "    \n",
    "    # Initialize arrays\n",
    "    psi = np.zeros(len(L))\n",
    "    Q1  = np.zeros(len(L))\n",
    "    Q2  = np.zeros(len(L))\n",
    "    Q3  = np.zeros(len(L))\n",
    "    nu1 = np.zeros(len(L))\n",
    "    nu2 = np.zeros(len(L))\n",
    "    nu3 = np.zeros(len(L))\n",
    "    prec_old = np.zeros(len(L))\n",
    "    \n",
    "    # Initialize time\n",
    "    t = 0.0\n",
    "    \n",
    "    # Initialize output array\n",
    "    output = []\n",
    "    ofreq = 0.000001*t_viscous\n",
    "    output_prefix = \"evolve_\"\n",
    "    output_cnt = 0\n",
    "        \n",
    "    while (t < tmax):\n",
    "        \n",
    "        # initialize derivatives to zero at the beginning of every iteration\n",
    "        dLxdt = np.zeros(len(L))\n",
    "        dLydt = np.zeros(len(L))\n",
    "        dLzdt = np.zeros(len(L))\n",
    "                \n",
    "        # we will evolve the cartesian components of the angular momentum vectors\n",
    "        Lx = L[:,0]\n",
    "        Ly = L[:,1]\n",
    "        Lz = L[:,2]\n",
    "        Lmag = np.sqrt(Lx**2.0 + Ly**2.0 + Lz**2.0)\n",
    "        \n",
    "        # now construct the components of the angular momentum unit vectors\n",
    "        lx = Lx/Lmag\n",
    "        ly = Ly/Lmag\n",
    "        lz = Lz/Lmag\n",
    "        l = np.array(zip(lx,ly,lz))\n",
    "        \n",
    "        # calculate warp parameter\n",
    "        psi_x = (0.5*r[1:-1]/dr)*(l[2:,0]-l[:-2,0])\n",
    "        psi_y = (0.5*r[1:-1]/dr)*(l[2:,1]-l[:-2,1])\n",
    "        psi_z = (0.5*r[1:-1]/dr)*(l[2:,2]-l[:-2,2])\n",
    "        psi[1:-1] = np.sqrt(psi_x**2.0 + psi_y**2.0 + psi_z**2.0)\n",
    "        psi[0] = psi[1]\n",
    "        psi[-1] = psi[-2]\n",
    "        \n",
    "        # calculate nu1,nu2,nu3\n",
    "        nu1[1:-1] = (-2.0/3.0)*(-1.0*10**(Q1_func(psi[1:-1])))*((H_R**2.0)*r[1:-1]**0.5)\n",
    "        nu1[0] = nu1[1]\n",
    "        nu1[-1] = nu1[-2]\n",
    "\n",
    "        nu2[1:-1] = 2.0*10**(Q2_func(psi[1:-1]))*((H_R**2.0)*r[1:-1]**0.5)\n",
    "        nu2[0] = nu2[1]\n",
    "        nu2[-1] = nu2[-2]\n",
    "\n",
    "        nu3[1:-1] = 10**(Q3_func(psi[1:-1]))*((H_R**2.0)*r[1:-1]**0.5)\n",
    "        nu3[0] = nu3[1]\n",
    "        nu3[-1] = nu3[-2]\n",
    "\n",
    "        #### Lets begin constructing the terms to evolve Lx, Ly, and Lz\n",
    "        \n",
    "        ## f1\n",
    "        f1_x = (3.0/(4.0*r[1:-1]))*(1.0/dr**2.0)*((r[2:]+r[1:-1])*(l[2:,0]+l[1:-1,0])*(nu1[2:]*Lmag[2:]-nu1[1:-1]*Lmag[1:-1]) - (r[1:-1]+r[:-2])*(l[1:-1,0]+l[:-2,0])*(nu1[1:-1]*Lmag[1:-1]-nu1[:-2]*Lmag[:-2]))\n",
    "        f1_y = (3.0/(4.0*r[1:-1]))*(1.0/dr**2.0)*((r[2:]+r[1:-1])*(l[2:,1]+l[1:-1,1])*(nu1[2:]*Lmag[2:]-nu1[1:-1]*Lmag[1:-1]) - (r[1:-1]+r[:-2])*(l[1:-1,1]+l[:-2,1])*(nu1[1:-1]*Lmag[1:-1]-nu1[:-2]*Lmag[:-2]))\n",
    "        f1_z = (3.0/(4.0*r[1:-1]))*(1.0/dr**2.0)*((r[2:]+r[1:-1])*(l[2:,2]+l[1:-1,2])*(nu1[2:]*Lmag[2:]-nu1[1:-1]*Lmag[1:-1]) - (r[1:-1]+r[:-2])*(l[1:-1,2]+l[:-2,2])*(nu1[1:-1]*Lmag[1:-1]-nu1[:-2]*Lmag[:-2]))\n",
    "        \n",
    "        ## f2\n",
    "        f2_x = (1.0/(16.0*r[1:-1]))*(1.0/dr**2.0)*((nu2[2:]+nu2[1:-1])*(r[2:]+r[1:-1])*(Lmag[2:]+Lmag[1:-1])*(l[2:,0]-l[1:-1,0]) - (nu2[1:-1]+nu2[:-2])*(r[1:-1]+r[:-2])*(Lmag[1:-1]+Lmag[:-2])*(l[1:-1,0]-l[:-2,0]))\n",
    "        f2_y = (1.0/(16.0*r[1:-1]))*(1.0/dr**2.0)*((nu2[2:]+nu2[1:-1])*(r[2:]+r[1:-1])*(Lmag[2:]+Lmag[1:-1])*(l[2:,1]-l[1:-1,1]) - (nu2[1:-1]+nu2[:-2])*(r[1:-1]+r[:-2])*(Lmag[1:-1]+Lmag[:-2])*(l[1:-1,1]-l[:-2,1]))\n",
    "        f2_z = (1.0/(16.0*r[1:-1]))*(1.0/dr**2.0)*((nu2[2:]+nu2[1:-1])*(r[2:]+r[1:-1])*(Lmag[2:]+Lmag[1:-1])*(l[2:,2]-l[1:-1,2]) - (nu2[1:-1]+nu2[:-2])*(r[1:-1]+r[:-2])*(Lmag[1:-1]+Lmag[:-2])*(l[1:-1,2]-l[:-2,2]))\n",
    "        \n",
    "        ## f3\n",
    "        f3_x = (1.0/(8.0*r[1:-1]))*(1.0/dr**3.0)*((0.5*(nu2[2:]+nu2[1:-1])*((r[2:]+r[1:-1])**2.0)*((l[2:,0]-l[1:-1,0])**2.0 + (l[2:,1]-l[1:-1,1])**2.0 + (l[2:,2]-l[1:-1,2])**2.0) - 3.0*(nu1[2:]+nu1[1:-1]))*(L[2:,0] + L[1:-1,0]) - (0.5*(nu2[1:-1]+nu2[:-2])*((r[1:-1]+r[:-2])**2.0)*((l[1:-1,0]-l[:-2,0])**2.0 + (l[1:-1,1]-l[:-2,1])**2.0 + (l[1:-1,2]-l[:-2,2])**2.0) - 3.0*(nu1[1:-1]+nu1[:-2]))*(L[1:-1,0] + L[:-2,0]))\n",
    "        f3_y = (1.0/(8.0*r[1:-1]))*(1.0/dr**3.0)*((0.5*(nu2[2:]+nu2[1:-1])*((r[2:]+r[1:-1])**2.0)*((l[2:,0]-l[1:-1,0])**2.0 + (l[2:,1]-l[1:-1,1])**2.0 + (l[2:,2]-l[1:-1,2])**2.0) - 3.0*(nu1[2:]+nu1[1:-1]))*(L[2:,1] + L[1:-1,1]) - (0.5*(nu2[1:-1]+nu2[:-2])*((r[1:-1]+r[:-2])**2.0)*((l[1:-1,0]-l[:-2,0])**2.0 + (l[1:-1,1]-l[:-2,1])**2.0 + (l[1:-1,2]-l[:-2,2])**2.0) - 3.0*(nu1[1:-1]+nu1[:-2]))*(L[1:-1,1] + L[:-2,1]))\n",
    "        f3_z = (1.0/(8.0*r[1:-1]))*(1.0/dr**3.0)*((0.5*(nu2[2:]+nu2[1:-1])*((r[2:]+r[1:-1])**2.0)*((l[2:,0]-l[1:-1,0])**2.0 + (l[2:,1]-l[1:-1,1])**2.0 + (l[2:,2]-l[1:-1,2])**2.0) - 3.0*(nu1[2:]+nu1[1:-1]))*(L[2:,2] + L[1:-1,2]) - (0.5*(nu2[1:-1]+nu2[:-2])*((r[1:-1]+r[:-2])**2.0)*((l[1:-1,0]-l[:-2,0])**2.0 + (l[1:-1,1]-l[:-2,1])**2.0 + (l[1:-1,2]-l[:-2,2])**2.0) - 3.0*(nu1[1:-1]+nu1[:-2]))*(L[1:-1,2] + L[:-2,2]))\n",
    "        \n",
    "        ## f4\n",
    "        f4_x = (1.0/(8.0*r[1:-1]))*(1.0/dr**2.0)*((nu3[2:]+nu3[1:-1])*(r[2:]+r[1:-1])*((L[2:,1]+L[1:-1,1])*(l[2:,2]-l[1:-1,2]) - (L[2:,2]+L[1:-1,2])*(l[2:,1]-l[1:-1,1])) - (nu3[1:-1]+nu3[:-2])*(r[1:-1]+r[:-2])*((L[1:-1,1]+L[:-2,1])*(l[1:-1,2]-l[:-2,2]) - (L[1:-1,2]+L[:-2,2])*(l[1:-1,1]-l[:-2,1])))\n",
    "        f4_y = (1.0/(8.0*r[1:-1]))*(1.0/dr**2.0)*((nu3[2:]+nu3[1:-1])*(r[2:]+r[1:-1])*((L[2:,2]+L[1:-1,2])*(l[2:,0]-l[1:-1,0]) - (L[2:,0]+L[1:-1,0])*(l[2:,2]-l[1:-1,2])) - (nu3[1:-1]+nu3[:-2])*(r[1:-1]+r[:-2])*((L[1:-1,2]+L[:-2,2])*(l[1:-1,0]-l[:-2,0]) - (L[1:-1,0]+L[:-2,0])*(l[1:-1,2]-l[:-2,2])))\n",
    "        f4_z = (1.0/(8.0*r[1:-1]))*(1.0/dr**2.0)*((nu3[2:]+nu3[1:-1])*(r[2:]+r[1:-1])*((L[2:,0]+L[1:-1,0])*(l[2:,1]-l[1:-1,1]) - (L[2:,1]+L[1:-1,1])*(l[2:,0]-l[1:-1,0])) - (nu3[1:-1]+nu3[:-2])*(r[1:-1]+r[:-2])*((L[1:-1,0]+L[:-2,0])*(l[1:-1,1]-l[:-2,1]) - (L[1:-1,1]+L[:-2,1])*(l[1:-1,0]-l[:-2,0])))\n",
    "        \n",
    "        ## f5\n",
    "        f5_x = omega_p[1:-1,2]*(-1.0)*L[1:-1,1]\n",
    "        f5_y = omega_p[1:-1,2]*L[1:-1,0]\n",
    "        \n",
    "        \n",
    "        #### Save before updates\n",
    "        if ((t%ofreq < dt)):\n",
    "            np.savetxt(\"../outputs/\" + output_prefix + str(output_cnt) + \".csv\", np.array(zip(Lx,Ly,Lz,r)))\n",
    "            output_cnt += 1\n",
    "        \n",
    "        #### Plot before updates\n",
    "        if ((t%0.000001*t_viscous < dt) and (0)):\n",
    "            print \"Finishing iteration at time t = %s/t_viscous with timestep %s/t_viscous\" % (t/t_viscous,dt/t_viscous)\n",
    "            print \"PSI:\", np.max(psi)#,\"\\n\\n\"\n",
    "            surface_density = Lmag / omega / r**2.0\n",
    "            \n",
    "            #plt.plot(radii,L)\n",
    "            tilt = np.arcsin(np.sqrt(lx**2.0 + ly**2.0))*180.0/np.pi\n",
    "            plt.plot(r,tilt,color='darkblue')\n",
    "            plt.xlim(np.min(r),np.max(r))            \n",
    "            plt.ylim(0,11)\n",
    "            plt.ylabel(r\"$T\\,[{\\rm deg}]$\")\n",
    "            plt.xscale('log')\n",
    "            plt.show()\n",
    "            plt.clf()\n",
    "            prec = np.arctan2(ly,lx)*180.0/np.pi\n",
    "            pdot = (prec - prec_old)/dt\n",
    "            plt.plot(r,pdot/360.0/omega_p[:,2][0],color='magenta')\n",
    "            plt.plot(r,omega_p[:,2]/omega_p[:,2][0],color='black',ls='--',lw=0.8)\n",
    "            plt.xlim(np.min(r),np.max(r))\n",
    "            plt.ylim(-2,2)\n",
    "            plt.ylabel(r\"$\\dot{P}$\")\n",
    "            plt.xscale('log')\n",
    "            plt.show()\n",
    "            plt.clf()\n",
    "            plt.plot(r,surface_density,color='darkred')\n",
    "            plt.xlim(np.min(r),np.max(r))\n",
    "            plt.ylim(0,20)\n",
    "            plt.ylabel(r\"$\\rho$\")\n",
    "            plt.xscale('log')\n",
    "            plt.show()\n",
    "            plt.clf()\n",
    "            \n",
    "        # for Pdot\n",
    "        prec_old = np.arctan2(ly,lx)*180.0/np.pi\n",
    "        \n",
    "        #### Apply updates!\n",
    "        dLxdt[1:-1] = dLxdt[1:-1] + f1_x + f2_x + f3_x + f4_x + f5_x\n",
    "        dLydt[1:-1] = dLydt[1:-1] + f1_y + f2_y + f3_y + f4_y + f5_y\n",
    "        dLzdt[1:-1] = dLzdt[1:-1] + f1_z + f2_z + f3_z + f4_z\n",
    "        \n",
    "        Lx = Lx + dt*dLxdt\n",
    "        Ly = Ly + dt*dLydt\n",
    "        Lz = Lz + dt*dLzdt\n",
    "        \n",
    "        #### Update timestep\n",
    "        t += dt\n",
    "        \n",
    "        if (1): #### Apply sink boundary conditions\n",
    "            Lx[0] = 1e-10 * Lx[1]\n",
    "            Lx[-1] = 1e-10 * Lx[-2]\n",
    "            Ly[0] = 1e-10 * Ly[1]\n",
    "            Ly[-1] = 1e-10 * Ly[-2]\n",
    "            Lz[0] = 1e-10 * Lz[1]\n",
    "            Lz[-1] = 1e-10 * Lz[-2]\n",
    "        if (0): #### Apply outflow boundary conditions\n",
    "            Lx[0] = Lx[1];\n",
    "            Lx[-1] = Lx[-2];\n",
    "            Ly[0] = Ly[1];\n",
    "            Ly[-1] = Ly[-2];\n",
    "            Lz[0] = Lz[1];\n",
    "            Lz[-1] = Lz[-2];\n",
    "        \n",
    "        #### Repackage array (but why?)\n",
    "        L = np.array(zip(Lx,Ly,Lz))"
   ]
  },
  {
   "cell_type": "code",
   "execution_count": 20,
   "metadata": {},
   "outputs": [
    {
     "name": "stdout",
     "output_type": "stream",
     "text": [
      "[ True]\n",
      "[[  1  10 100]\n",
      " [  2  20 200]\n",
      " [  3  30 300]] [1 2 3] [10 20 30] [100 200 300] \n",
      "\n",
      "[10101. 40404. 90909.]\n"
     ]
    },
    {
     "ename": "KeyboardInterrupt",
     "evalue": "",
     "output_type": "error",
     "traceback": [
      "\u001b[0;31m---------------------------------------------------------------------------\u001b[0m",
      "\u001b[0;31mKeyboardInterrupt\u001b[0m                         Traceback (most recent call last)",
      "\u001b[0;32m<ipython-input-20-2833d7baeec2>\u001b[0m in \u001b[0;36m<module>\u001b[0;34m()\u001b[0m\n\u001b[1;32m      9\u001b[0m \u001b[0;32mprint\u001b[0m \u001b[0mt\u001b[0m\u001b[0;34m,\u001b[0m\u001b[0mtx\u001b[0m\u001b[0;34m,\u001b[0m\u001b[0mty\u001b[0m\u001b[0;34m,\u001b[0m\u001b[0mtz\u001b[0m\u001b[0;34m,\u001b[0m \u001b[0;34m'\\n'\u001b[0m\u001b[0;34m\u001b[0m\u001b[0;34m\u001b[0m\u001b[0m\n\u001b[1;32m     10\u001b[0m \u001b[0;32mprint\u001b[0m \u001b[0mtx\u001b[0m\u001b[0;34m**\u001b[0m\u001b[0;36m2.0\u001b[0m \u001b[0;34m+\u001b[0m \u001b[0mty\u001b[0m\u001b[0;34m**\u001b[0m\u001b[0;36m2.0\u001b[0m \u001b[0;34m+\u001b[0m \u001b[0mtz\u001b[0m\u001b[0;34m**\u001b[0m\u001b[0;36m2.0\u001b[0m\u001b[0;34m\u001b[0m\u001b[0;34m\u001b[0m\u001b[0m\n\u001b[0;32m---> 11\u001b[0;31m \u001b[0mevolve\u001b[0m\u001b[0;34m(\u001b[0m\u001b[0;34m)\u001b[0m\u001b[0;34m\u001b[0m\u001b[0;34m\u001b[0m\u001b[0m\n\u001b[0m",
      "\u001b[0;32m<ipython-input-19-b091940e2bb3>\u001b[0m in \u001b[0;36mevolve\u001b[0;34m()\u001b[0m\n\u001b[1;32m    131\u001b[0m \u001b[0;34m\u001b[0m\u001b[0m\n\u001b[1;32m    132\u001b[0m         \u001b[0;31m# for Pdot\u001b[0m\u001b[0;34m\u001b[0m\u001b[0;34m\u001b[0m\u001b[0;34m\u001b[0m\u001b[0m\n\u001b[0;32m--> 133\u001b[0;31m         \u001b[0mprec_old\u001b[0m \u001b[0;34m=\u001b[0m \u001b[0mnp\u001b[0m\u001b[0;34m.\u001b[0m\u001b[0marctan2\u001b[0m\u001b[0;34m(\u001b[0m\u001b[0mly\u001b[0m\u001b[0;34m,\u001b[0m\u001b[0mlx\u001b[0m\u001b[0;34m)\u001b[0m\u001b[0;34m*\u001b[0m\u001b[0;36m180.0\u001b[0m\u001b[0;34m/\u001b[0m\u001b[0mnp\u001b[0m\u001b[0;34m.\u001b[0m\u001b[0mpi\u001b[0m\u001b[0;34m\u001b[0m\u001b[0;34m\u001b[0m\u001b[0m\n\u001b[0m\u001b[1;32m    134\u001b[0m \u001b[0;34m\u001b[0m\u001b[0m\n\u001b[1;32m    135\u001b[0m         \u001b[0;31m#### Apply updates!\u001b[0m\u001b[0;34m\u001b[0m\u001b[0;34m\u001b[0m\u001b[0;34m\u001b[0m\u001b[0m\n",
      "\u001b[0;31mKeyboardInterrupt\u001b[0m: "
     ]
    }
   ],
   "source": [
    "a = [1,2,3]\n",
    "b = [10,20,30]\n",
    "c = [100,200,300]\n",
    "t = np.array(zip(a,b,c))\n",
    "tx = t[:,0]\n",
    "ty = t[:,1]\n",
    "tz = t[:,2]\n",
    "print t[2:,0] == t[:,0][2:]\n",
    "print t,tx,ty,tz, '\\n'\n",
    "print tx**2.0 + ty**2.0 + tz**2.0\n",
    "evolve()"
   ]
  }
 ],
 "metadata": {
  "kernelspec": {
   "display_name": "Python 2",
   "language": "python",
   "name": "python2"
  },
  "language_info": {
   "codemirror_mode": {
    "name": "ipython",
    "version": 2
   },
   "file_extension": ".py",
   "mimetype": "text/x-python",
   "name": "python",
   "nbconvert_exporter": "python",
   "pygments_lexer": "ipython2",
   "version": "2.7.15+"
  }
 },
 "nbformat": 4,
 "nbformat_minor": 2
}
