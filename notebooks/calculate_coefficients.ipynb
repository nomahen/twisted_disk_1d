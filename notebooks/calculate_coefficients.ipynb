{
 "cells": [
  {
   "cell_type": "code",
   "execution_count": 2,
   "metadata": {},
   "outputs": [],
   "source": [
    "import numpy as np\n",
    "import sys\n",
    "import argparse\n",
    "from scipy.integrate import odeint\n",
    "from scipy.optimize import least_squares"
   ]
  },
  {
   "cell_type": "code",
   "execution_count": 3,
   "metadata": {},
   "outputs": [],
   "source": [
    "a = 0.2\n",
    "g = 1.0\n",
    "p = 0.0\n",
    "ngpts = 1000000"
   ]
  },
  {
   "cell_type": "code",
   "execution_count": 5,
   "metadata": {},
   "outputs": [],
   "source": [
    "def kappa(r):\n",
    "    \"\"\"\n",
    "    dimensionless epicyclic frequency\n",
    "    k^2 = 4*Omega^2 +2*r*Omega*Omega'\n",
    "    return k/Omega    \n",
    "\n",
    "    In Keplerian case this is always 1\n",
    "    \"\"\"\n",
    "    return np.sqrt(4*r**(-3.0) - 3*r**(-3.0))/r**(-3.0/2.0)\n",
    "\n",
    "def alpha(a,r,p):\n",
    "    \"Calculates radially dependent alpha viscosity\"\n",
    "    return a*r**p\n",
    "\n",
    "def Q(x,sol,a,r,s,p):\n",
    "    \"Calculates Q coefficients given f_i(x) (i=1..6), alpha, radius array, warp parameters. See Ogilvie 1999 Equations 112 and 120.\"\n",
    "    f1,f2,f3,f4,f5,f6 = sol[:,0],sol[:,1],sol[:,2],sol[:,3],sol[:,4],sol[:,5]\n",
    "    k = kappa(r)\n",
    "    a = alpha(a,r,p)\n",
    "    Q1_integrand = f6*[-0.5*(4-k**2.0)*a*f2-f3*f5+a*f2*f5*s*np.cos(x)]\n",
    "    Q4_integrand = np.exp(1j*x)*f6*[f3 - 1j*f3*(f4+f3*s*np.cos(x)) + 1j*a*f2*(f4+f3*s*np.cos(x))*s*np.cos(x) - 1j*a*f2*f3 - 1j*a*f2*s*np.sin(x)]\n",
    "    Q2_integrand = Q4_integrand.real\n",
    "    Q3_integrand = Q4_integrand.imag\n",
    "    \n",
    "    Q1 = np.average(Q1_integrand)\n",
    "    Q2 = np.average(Q2_integrand)/(s + int(s==0.0)*1e-16)\n",
    "    Q3 = np.average(Q3_integrand)/(s + int(s==0.0)*1e-16)\n",
    "    return Q1,Q2,Q3\n",
    "\n",
    "def f_appx(a,r,s,g,p):\n",
    "    # Calculate Taylor expanded initial condition for fi(x) arrays (i=1,...6). See appendix of Ogilvie 1999.\n",
    "    k = kappa(r)\n",
    "    a = alpha(a,r,p)\n",
    "    npts =1000\n",
    "    x = np.linspace(0,2.*np.pi,npts)\n",
    "    \n",
    "    ## 0-th order\n",
    "    f10 = np.ones(npts) # Unsure, this isn't listed, I'm guessing!\n",
    "    f20 = np.ones(npts)\n",
    "    f60 = np.ones(npts)\n",
    "    \n",
    "    ## 1st order\n",
    "    Zr1 = (1j - (4. - k*k)*a + 1j*a*a)/((1.-k*k) + 2j*a - a*a)\n",
    "    Cr1 = Zr1.real\n",
    "    Sr1 = Zr1.imag\n",
    "    Zp1 = 0.5*((k*k + 2j*(2.-k*k)*a - (4-k*k)*a*a)/((1-k*k) + 2j*a - a*a))\n",
    "    Cp1 = Zp1.real\n",
    "    Sp1 = Zp1.imag\n",
    "    f31 = Cr1*np.cos(x) + Sr1*np.sin(x)\n",
    "    f51 = Cp1*np.cos(x) + Sp1*np.sin(x)\n",
    "\n",
    "    ## 2nd order\n",
    "    Zt2 = (-3j + 2*(6-k*k)*a - (1+k*k)*1j*a*a + 2*a**3.)/(((3.-g)+2j*(4./3.)*a)*((1-k*k)+2j*a-a*a))\n",
    "    Ct2 = Zt2.real\n",
    "    St2 = Zt2.imag\n",
    "\n",
    "    f12 = -0.5*(g-1.)*f10*(St2*np.cos(2*x) - Ct2*np.sin(2*x))\n",
    "    f22 = -0.5*(g+1.)*(St2*np.cos(2*x) - Ct2*np.sin(2*x)) + 0.5*Sr1 - 0.5*a*Cr1\n",
    "    f42 = Ct2*np.cos(2*x) + St2*np.sin(2*x)\n",
    "    f62 = St2*np.cos(2*x) - Ct2*np.sin(2*x)\n",
    "\n",
    "    ## Calculate\n",
    "    f1 = f10 + s*s*f12\n",
    "    f2 = f20 + s*s*f22\n",
    "    f3 = s*f31\n",
    "    f4 = s*s*f42\n",
    "    f5 = s*f51\n",
    "    f6 = f60 + s*s*f62\n",
    "\n",
    "    return [f1[0],f2[0],f3[0],f4[0],f5[0],f6[0]]\n",
    "\n",
    "def f(y,x,a,r,s,g,p):\n",
    "    # Calculates dfi/dx(x) for (i=1...6); see equations 105-109 + 117 of Ogilvie 1999\n",
    "    f1,f2,f3,f4,f5,f6 = y[0],y[1],y[2],y[3],y[4],y[5]\n",
    "    k = kappa(r)\n",
    "    a = alpha(a,r,p)\n",
    "\n",
    "    # Equations 105-109 Ogilvie 1999\n",
    "    df1_dx = (g - 1.0)*f4*f1\n",
    "    df2_dx = (g + 1.0)*f4*f2\n",
    "    df3_dx = f4*f3 + 2*f5 + (1.0 + (1.0/3.0)*a*f4)*f2*s*np.cos(x) - a*f2*f3*(1.0+s*s*np.cos(x)**2) - a*f2*s*np.sin(x)\n",
    "    df4_dx = -df3_dx*s*np.cos(x) + 2.0*f3*s*np.sin(x) + f4*(f4+f3*s*np.cos(x)) + 1.0 - (1 + (1./3.)*a*f4)*f2 - a*f2*(f4+f3*s*np.cos(x))*(1+s*s*np.cos(x)**2.0) + a*f2*s*s*np.cos(x)*np.sin(x)\n",
    "    df5_dx = f4*f5 - 0.5*k*k*f3 - a*f2*f5*(1.0+s*s*np.cos(x)**2.0) + 0.5*(4-k*k)*a*f2*s*np.cos(x)\n",
    "    df6_dx = -2.0*f4*f6\n",
    "\n",
    "    return [df1_dx,df2_dx,df3_dx,df4_dx,df5_dx,df6_dx]\n",
    "\n",
    "def objective(ic,x,a,r,s,g,p):\n",
    "    dx = np.average(x[1:] - x[:-1])\n",
    "\n",
    "    f1a,f2a,f3a,f4a,f5a,f6a = ic[:6]\n",
    "    df1_dxa,df2_dxa,df3_dxa,df4_dxa,df5_dxa,df6_dxa = f(ic,0.,a,r,s,g,p)\n",
    "    sol = odeint(f,ic[:6],x,args=(a,r,s,g,p),atol=1e-18,rtol=1e-13)\n",
    "    outer_bc = np.array([sol[:,0][-1],sol[:,1][-1],sol[:,2][-1],sol[:,3][-1],sol[:,4][-1],sol[:,5][-1]])\n",
    "    df1_dxb,df2_dxb,df3_dxb,df4_dxb,df5_dxb,df6_dxb = f(outer_bc,2.0*np.pi ,a,r,s,g,p)\n",
    "\n",
    "    # Minimizing derivative of f forces both f and f' to be continuous. We do compare first and last elements because\n",
    "    # each function is periodic. \n",
    "    condition = [df1_dxb-df1_dxa, df2_dxb-df2_dxa, df3_dxb-df3_dxa, df4_dxb-df4_dxa, df5_dxb-df5_dxa, df6_dxb-df6_dxa]\n",
    "\n",
    "    return condition\n",
    "\n",
    "def f_soln(a,r,s,g,p,ngrid=100,method='lm',ic_guess=[],bounds=([-np.infty]*6,[np.inf]*6)):\n",
    "\n",
    "    # If we haven't supplied a guess for the inital conditions, use the Taylor expanded formulae\n",
    "    if len(ic_guess) == 0: ic_guess = f_appx(a,r,s,g,p)\n",
    "\n",
    "    # Calculate Epicyclic Frequency (trivially 1 for Keplerian orbits)\n",
    "    k = kappa(r)\n",
    "\n",
    "    # f1,...,f6 are defined from 0 to 2pi\n",
    "    x = np.linspace(0, 2.0*np.pi, ngrid)\n",
    "    dx = np.average(x[1:] - x[:-1])\n",
    "\n",
    "    # Find correct ICs to satisfy BC condition by minimizing least squares condition.\n",
    "    ya = least_squares(objective,ic_guess,args=(x,a,r,s,g,p),bounds=bounds,method=method,xtol=1e-11,ftol=1e-11)\n",
    "    ic = np.copy(ya.x)\n",
    "\n",
    "    # Calculate integrated equations f1,f2,f3,f4,f5,f6 as a function of x (phi)\n",
    "    sol = odeint(f,ic[:6],x,args=(a,r,s,g,p),atol=1e-11,rtol=1e-11)\n",
    "\n",
    "    # Normalization condition is <f_6> = 1\n",
    "    if (np.abs(np.average(sol[:,5]))==0.0):\n",
    "        print \"Avg f6: \", np.average(sol[:,5])\n",
    "    else:\n",
    "        sol[:,5] = sol[:,5]/np.average(sol[:,5])\n",
    "\n",
    "    return x,sol"
   ]
  },
  {
   "cell_type": "code",
   "execution_count": 49,
   "metadata": {},
   "outputs": [],
   "source": [
    "a = 0.2\n",
    "g = 1.0\n",
    "p = 0.0\n",
    "ngpts = 10000000\n",
    "\n",
    "s = 79.03190476489044\n",
    "r = 1.\n",
    "#ic_guess = f_appx(a,r,0.0,g,p)#[]\n",
    " # Temporary, as I have not added support for 2D yet\n",
    "\n",
    "# 1D: iterate only through psi array\n",
    "\n",
    "# Get solution from kernel for current psi value\n",
    "x, sol = f_soln(a,r,s,g,p,ngrid=ngpts,method='lm',ic_guess=ic_guess)\n",
    "\n",
    "# f1(0)...f6(0) form our guess for the initial conditions of the next iteration\n",
    "f10,f20,f30,f40,f50,f60 = sol[:,0][0],sol[:,1][0],sol[:,2][0],sol[:,3][0],sol[:,4][0],sol[:,5][0]\n",
    "ic_guess = [f10,f20,f30,f40,f50,f60]\n",
    "\n",
    "# Calculate Q1,Q2,Q3 for the given value of psi\n",
    "Q1,Q2,Q3 = Q(x,sol,a,r,s,p)\n"
   ]
  },
  {
   "cell_type": "code",
   "execution_count": 45,
   "metadata": {},
   "outputs": [
    {
     "name": "stdout",
     "output_type": "stream",
     "text": [
      "-1.9134361882518113e-05 0.013691287878191608 4.794849651506885e-05\n"
     ]
    }
   ],
   "source": [
    "print Q1,Q2,Q3"
   ]
  },
  {
   "cell_type": "code",
   "execution_count": 46,
   "metadata": {},
   "outputs": [],
   "source": [
    "#ic_guess_dict = {}\n",
    "#ic_guess_dict['1.0893812754228143'] = np.copy(ic_guess)\n",
    "#ic_guess_dict['1.5364884092715063'] = np.copy(ic_guess)\n",
    "#ic_guess_dict['2.0792720917185092'] = np.copy(ic_guess)\n",
    "#ic_guess_dict['2.459211978499338'] = np.copy(ic_guess)\n",
    "#ic_guess_dict['3.538145682825502'] = np.copy(ic_guess)\n",
    "#ic_guess_dict['5.4337734503686965'] = np.copy(ic_guess)\n",
    "#ic_guess_dict['10.0730759508940285'] = np.copy(ic_guess)"
   ]
  },
  {
   "cell_type": "code",
   "execution_count": 48,
   "metadata": {},
   "outputs": [
    {
     "name": "stdout",
     "output_type": "stream",
     "text": [
      "[ True  True  True  True  True  True]\n"
     ]
    }
   ],
   "source": [
    "print ic_guess_dict['10.0730759508940285'] == ic_guess"
   ]
  }
 ],
 "metadata": {
  "kernelspec": {
   "display_name": "Python 2",
   "language": "python",
   "name": "python2"
  },
  "language_info": {
   "codemirror_mode": {
    "name": "ipython",
    "version": 2
   },
   "file_extension": ".py",
   "mimetype": "text/x-python",
   "name": "python",
   "nbconvert_exporter": "python",
   "pygments_lexer": "ipython2",
   "version": "2.7.17"
  }
 },
 "nbformat": 4,
 "nbformat_minor": 2
}
