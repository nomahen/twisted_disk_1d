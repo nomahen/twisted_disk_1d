{
 "cells": [
  {
   "cell_type": "code",
   "execution_count": 1,
   "metadata": {},
   "outputs": [],
   "source": [
    "import numpy as np\n",
    "import astropy as ap\n",
    "import matplotlib.pyplot as plt\n",
    "from read_data import *\n",
    "%matplotlib inline"
   ]
  },
  {
   "cell_type": "markdown",
   "metadata": {},
   "source": [
    "### We will use two functions imported from read_data: get_fn_list() and build_tables().\n",
    "### Build tables takes a filename to one an output file from a simulation and turns it into an astropy table.\n",
    "### If we want a list of filenames, we can use the function get_fn_list(), which takes as inputs the directory\n",
    "### to the outputs folder, the number of the first file we want to read, and the number of the last file. It then\n",
    "### returns a list of the correct filenames which we can then feed to build_table()."
   ]
  },
  {
   "cell_type": "code",
   "execution_count": 2,
   "metadata": {},
   "outputs": [
    {
     "name": "stdout",
     "output_type": "stream",
     "text": [
      "Assuming linearly spaced grid...\n",
      "Assuming linearly spaced grid...\n",
      "Assuming linearly spaced grid...\n",
      "Assuming linearly spaced grid...\n",
      "Assuming linearly spaced grid...\n",
      "Assuming linearly spaced grid...\n",
      "Assuming linearly spaced grid...\n",
      "Assuming linearly spaced grid...\n",
      "Assuming linearly spaced grid...\n",
      "Assuming linearly spaced grid...\n",
      "Assuming linearly spaced grid...\n",
      "Assuming linearly spaced grid...\n",
      "Assuming linearly spaced grid...\n",
      "Assuming linearly spaced grid...\n",
      "Assuming linearly spaced grid...\n",
      "Assuming linearly spaced grid...\n",
      "Assuming linearly spaced grid...\n",
      "Assuming linearly spaced grid...\n",
      "Assuming linearly spaced grid...\n",
      "Assuming linearly spaced grid...\n",
      "Assuming linearly spaced grid...\n",
      "Assuming linearly spaced grid...\n",
      "Assuming linearly spaced grid...\n",
      "Assuming linearly spaced grid...\n",
      "Assuming linearly spaced grid...\n",
      "Assuming linearly spaced grid...\n",
      "Assuming linearly spaced grid...\n",
      "Assuming linearly spaced grid...\n",
      "Assuming linearly spaced grid...\n",
      "Assuming linearly spaced grid...\n",
      "Assuming linearly spaced grid...\n",
      "Assuming linearly spaced grid...\n",
      "Assuming linearly spaced grid...\n",
      "Assuming linearly spaced grid...\n",
      "Assuming linearly spaced grid...\n",
      "Assuming linearly spaced grid...\n",
      "Assuming linearly spaced grid...\n",
      "Assuming linearly spaced grid...\n",
      "Assuming linearly spaced grid...\n",
      "Assuming linearly spaced grid...\n",
      "Assuming linearly spaced grid...\n",
      "Assuming linearly spaced grid...\n",
      "Assuming linearly spaced grid...\n",
      "Assuming linearly spaced grid...\n",
      "Assuming linearly spaced grid...\n",
      "Assuming linearly spaced grid...\n",
      "Assuming linearly spaced grid...\n",
      "Assuming linearly spaced grid...\n",
      "Assuming linearly spaced grid...\n",
      "Assuming linearly spaced grid...\n",
      "Assuming linearly spaced grid...\n",
      "Assuming linearly spaced grid...\n",
      "Assuming linearly spaced grid...\n",
      "Assuming linearly spaced grid...\n",
      "Assuming linearly spaced grid...\n",
      "Assuming linearly spaced grid...\n",
      "Assuming linearly spaced grid...\n",
      "Assuming linearly spaced grid...\n",
      "Assuming linearly spaced grid...\n",
      "Assuming linearly spaced grid...\n",
      "Assuming linearly spaced grid...\n",
      "Assuming linearly spaced grid...\n",
      "Assuming linearly spaced grid...\n",
      "Assuming linearly spaced grid...\n",
      "Assuming linearly spaced grid...\n",
      "Assuming linearly spaced grid...\n"
     ]
    }
   ],
   "source": [
    "### Get list of files we want to build tables from\n",
    "fns = get_fn_list(\"../outputs/\",0,65)\n",
    "\n",
    "### Build a list of tables for each file\n",
    "tables = []\n",
    "for fn in fns:\n",
    "    tables.append(build_table(fn))"
   ]
  },
  {
   "cell_type": "markdown",
   "metadata": {},
   "source": [
    "### Lets make a plotting interface, which we can test for one of our tables. "
   ]
  },
  {
   "cell_type": "code",
   "execution_count": 3,
   "metadata": {},
   "outputs": [
    {
     "data": {
      "image/png": "[encoded data removed]",
      "text/plain": [
       "<Figure size 720x576 with 1 Axes>"
      ]
     },
     "metadata": {
      "needs_background": "light"
     },
     "output_type": "display_data"
    },
    {
     "data": {
      "text/plain": [
       "<Figure size 432x288 with 0 Axes>"
      ]
     },
     "metadata": {},
     "output_type": "display_data"
    }
   ],
   "source": [
    "def plot_interface(table):\n",
    "    ## Modify the body of this function for the plot you want\n",
    "    fig = plt.figure(figsize=(10,8))\n",
    "    plt.plot(table[\"r\"],table[\"tilt\"],color=\"darkred\")\n",
    "    plt.xlabel(r\"$r\\,[r_{\\rm g}]$\")\n",
    "    plt.ylabel(r\"$T\\,[{\\rm deg}]$\")\n",
    "    plt.xlim(table[\"r\"][0],table[\"r\"][-1])\n",
    "    plt.ylim(0,11)\n",
    "    plt.xscale('log')\n",
    "    return fig\n",
    "\n",
    "fig = plot_interface(tables[0])\n",
    "plt.show()\n",
    "plt.clf()"
   ]
  },
  {
   "cell_type": "markdown",
   "metadata": {},
   "source": [
    "### Lets say we want to plot the quantities as a movie. We do this by making .png frames of each snapshot and then combining them into a movie using ffmpeg. \n",
    "### We iterate through each table that we have generated, then we use our plotting interface to get the figure from matplotlib that we want. \n",
    "### Then, we just save this as a series of .png files. From command line, we can do this using ffmpeg, for instance:\n",
    "### \"ffmpeg -r 5 -s 1920x1080 -i tilt_%03d.png test.mp4\"\n",
    "### -r sets the frames per second; -s sets the resolution; -i sets the files we want to read, where %03d indicates we're look for integers of length 3, i.e. 1 --> 001, 10 --> 010, etc; and then test.mp4 is just the name of our file.\n",
    "### We can do this interactively in jupyter notebook (auto = 1) and remove the .png files afterwards, if we want, as well (clean = 1)"
   ]
  },
  {
   "cell_type": "code",
   "execution_count": 4,
   "metadata": {},
   "outputs": [
    {
     "name": "stderr",
     "output_type": "stream",
     "text": [
      "/home/nkaaz/.local/lib/python2.7/site-packages/matplotlib/pyplot.py:522: RuntimeWarning: More than 20 figures have been opened. Figures created through the pyplot interface (`matplotlib.pyplot.figure`) are retained until explicitly closed and may consume too much memory. (To control this warning, see the rcParam `figure.max_open_warning`).\n",
      "  max_open_warning, RuntimeWarning)\n"
     ]
    },
    {
     "name": "stdout",
     "output_type": "stream",
     "text": [
      "ffmpeg version 3.4.6-0ubuntu0.18.04.1 Copyright (c) 2000-2019 the FFmpeg developers\n",
      "  built with gcc 7 (Ubuntu 7.3.0-16ubuntu3)\n",
      "  configuration: --prefix=/usr --extra-version=0ubuntu0.18.04.1 --toolchain=hardened --libdir=/usr/lib/x86_64-linux-gnu --incdir=/usr/include/x86_64-linux-gnu --enable-gpl --disable-stripping --enable-avresample --enable-avisynth --enable-gnutls --enable-ladspa --enable-libass --enable-libbluray --enable-libbs2b --enable-libcaca --enable-libcdio --enable-libflite --enable-libfontconfig --enable-libfreetype --enable-libfribidi --enable-libgme --enable-libgsm --enable-libmp3lame --enable-libmysofa --enable-libopenjpeg --enable-libopenmpt --enable-libopus --enable-libpulse --enable-librubberband --enable-librsvg --enable-libshine --enable-libsnappy --enable-libsoxr --enable-libspeex --enable-libssh --enable-libtheora --enable-libtwolame --enable-libvorbis --enable-libvpx --enable-libwavpack --enable-libwebp --enable-libx265 --enable-libxml2 --enable-libxvid --enable-libzmq --enable-libzvbi --enable-omx --enable-openal --enable-opengl --enable-sdl2 --enable-libdc1394 --enable-libdrm --enable-libiec61883 --enable-chromaprint --enable-frei0r --enable-libopencv --enable-libx264 --enable-shared\n",
      "  libavutil      55. 78.100 / 55. 78.100\n",
      "  libavcodec     57.107.100 / 57.107.100\n",
      "  libavformat    57. 83.100 / 57. 83.100\n",
      "  libavdevice    57. 10.100 / 57. 10.100\n",
      "  libavfilter     6.107.100 /  6.107.100\n",
      "  libavresample   3.  7.  0 /  3.  7.  0\n",
      "  libswscale      4.  8.100 /  4.  8.100\n",
      "  libswresample   2.  9.100 /  2.  9.100\n",
      "  libpostproc    54.  7.100 / 54.  7.100\n",
      "Input #0, image2, from '../plots/tilt_%04d.png':\n",
      "  Duration: 00:00:02.64, start: 0.000000, bitrate: N/A\n",
      "    Stream #0:0: Video: png, rgba(pc), 720x576 [SAR 2834:2834 DAR 5:4], 25 fps, 25 tbr, 25 tbn, 25 tbc\n",
      "Stream mapping:\n",
      "  Stream #0:0 -> #0:0 (png (native) -> h264 (libx264))\n",
      "Press [q] to stop, [?] for help\n",
      "\u001b[1;36m[libx264 @ 0x55b5c543b020] \u001b[0musing SAR=1/1\n",
      "\u001b[1;36m[libx264 @ 0x55b5c543b020] \u001b[0musing cpu capabilities: MMX2 SSE2Fast SSSE3 SSE4.2 AVX FMA3 BMI2 AVX2\n",
      "\u001b[1;36m[libx264 @ 0x55b5c543b020] \u001b[0mprofile High 4:4:4 Predictive, level 2.2, 4:4:4 8-bit\n",
      "\u001b[1;36m[libx264 @ 0x55b5c543b020] \u001b[0m264 - core 152 r2854 e9a5903 - H.264/MPEG-4 AVC codec - Copyleft 2003-2017 - http://www.videolan.org/x264.html - options: cabac=1 ref=3 deblock=1:0:0 analyse=0x1:0x111 me=hex subme=7 psy=1 psy_rd=1.00:0.00 mixed_ref=1 me_range=16 chroma_me=1 trellis=1 8x8dct=0 cqm=0 deadzone=21,11 fast_pskip=1 chroma_qp_offset=4 threads=12 lookahead_threads=2 sliced_threads=0 nr=0 decimate=1 interlaced=0 bluray_compat=0 constrained_intra=0 bframes=3 b_pyramid=2 b_adapt=1 b_bias=0 direct=1 weightb=1 open_gop=0 weightp=2 keyint=250 keyint_min=5 scenecut=40 intra_refresh=0 rc_lookahead=40 rc=crf mbtree=1 crf=23.0 qcomp=0.60 qpmin=0 qpmax=69 qpstep=4 ip_ratio=1.40 aq=1:1.00\n",
      "Output #0, mp4, to '../plots/test.mp4':\n",
      "  Metadata:\n",
      "    encoder         : Lavf57.83.100\n",
      "    Stream #0:0: Video: h264 (libx264) (avc1 / 0x31637661), yuv444p, 720x576 [SAR 1:1 DAR 5:4], q=-1--1, 5 fps, 10240 tbn, 5 tbc\n",
      "    Metadata:\n",
      "      encoder         : Lavc57.107.100 libx264\n",
      "    Side data:\n",
      "      cpb: bitrate max/min/avg: 0/0/0 buffer size: 0 vbv_delay: -1\n",
      "frame=   66 fps=0.0 q=-1.0 Lsize=      31kB time=00:00:12.60 bitrate=  20.4kbits/s speed=45.1x    \n",
      "video:30kB audio:0kB subtitle:0kB other streams:0kB global headers:0kB muxing overhead: 5.159015%\n",
      "\u001b[1;36m[libx264 @ 0x55b5c543b020] \u001b[0mframe I:1     Avg QP: 4.28  size:  2192\n",
      "\u001b[1;36m[libx264 @ 0x55b5c543b020] \u001b[0mframe P:25    Avg QP:13.70  size:   702\n",
      "\u001b[1;36m[libx264 @ 0x55b5c543b020] \u001b[0mframe B:40    Avg QP:19.60  size:   255\n",
      "\u001b[1;36m[libx264 @ 0x55b5c543b020] \u001b[0mconsecutive B-frames: 12.1% 15.2% 18.2% 54.5%\n",
      "\u001b[1;36m[libx264 @ 0x55b5c543b020] \u001b[0mmb I  I16..4: 97.3%  0.0%  2.7%\n",
      "\u001b[1;36m[libx264 @ 0x55b5c543b020] \u001b[0mmb P  I16..4:  0.9%  0.0%  0.1%  P16..4:  1.4%  1.3%  0.5%  0.0%  0.0%    skip:95.8%\n",
      "\u001b[1;36m[libx264 @ 0x55b5c543b020] \u001b[0mmb B  I16..4:  0.0%  0.0%  0.0%  B16..8:  2.0%  0.9%  0.1%  direct: 0.1%  skip:96.9%  L0:49.5% L1:36.6% BI:13.9%\n",
      "\u001b[1;36m[libx264 @ 0x55b5c543b020] \u001b[0mcoded y,u,v intra: 3.0% 1.4% 1.7% inter: 0.4% 0.0% 0.1%\n",
      "\u001b[1;36m[libx264 @ 0x55b5c543b020] \u001b[0mi16 v,h,dc,p: 89%  8%  3%  0%\n",
      "\u001b[1;36m[libx264 @ 0x55b5c543b020] \u001b[0mi4 v,h,dc,ddl,ddr,vr,hd,vl,hu: 31% 15% 43%  2%  1%  2%  1%  4%  2%\n",
      "\u001b[1;36m[libx264 @ 0x55b5c543b020] \u001b[0mWeighted P-Frames: Y:0.0% UV:0.0%\n",
      "\u001b[1;36m[libx264 @ 0x55b5c543b020] \u001b[0mref P L0: 63.3%  0.6% 22.3% 13.8%\n",
      "\u001b[1;36m[libx264 @ 0x55b5c543b020] \u001b[0mref B L0: 65.0% 20.8% 14.2%\n",
      "\u001b[1;36m[libx264 @ 0x55b5c543b020] \u001b[0mref B L1: 95.6%  4.4%\n",
      "\u001b[1;36m[libx264 @ 0x55b5c543b020] \u001b[0mkb/s:18.14\n"
     ]
    },
    {
     "data": {
      "text/plain": [
       "<Figure size 720x576 with 0 Axes>"
      ]
     },
     "metadata": {},
     "output_type": "display_data"
    },
    {
     "data": {
      "text/plain": [
       "<Figure size 720x576 with 0 Axes>"
      ]
     },
     "metadata": {},
     "output_type": "display_data"
    },
    {
     "data": {
      "text/plain": [
       "<Figure size 720x576 with 0 Axes>"
      ]
     },
     "metadata": {},
     "output_type": "display_data"
    },
    {
     "data": {
      "text/plain": [
       "<Figure size 720x576 with 0 Axes>"
      ]
     },
     "metadata": {},
     "output_type": "display_data"
    },
    {
     "data": {
      "text/plain": [
       "<Figure size 720x576 with 0 Axes>"
      ]
     },
     "metadata": {},
     "output_type": "display_data"
    },
    {
     "data": {
      "text/plain": [
       "<Figure size 720x576 with 0 Axes>"
      ]
     },
     "metadata": {},
     "output_type": "display_data"
    },
    {
     "data": {
      "text/plain": [
       "<Figure size 720x576 with 0 Axes>"
      ]
     },
     "metadata": {},
     "output_type": "display_data"
    },
    {
     "data": {
      "text/plain": [
       "<Figure size 720x576 with 0 Axes>"
      ]
     },
     "metadata": {},
     "output_type": "display_data"
    },
    {
     "data": {
      "text/plain": [
       "<Figure size 720x576 with 0 Axes>"
      ]
     },
     "metadata": {},
     "output_type": "display_data"
    },
    {
     "data": {
      "text/plain": [
       "<Figure size 720x576 with 0 Axes>"
      ]
     },
     "metadata": {},
     "output_type": "display_data"
    },
    {
     "data": {
      "text/plain": [
       "<Figure size 720x576 with 0 Axes>"
      ]
     },
     "metadata": {},
     "output_type": "display_data"
    },
    {
     "data": {
      "text/plain": [
       "<Figure size 720x576 with 0 Axes>"
      ]
     },
     "metadata": {},
     "output_type": "display_data"
    },
    {
     "data": {
      "text/plain": [
       "<Figure size 720x576 with 0 Axes>"
      ]
     },
     "metadata": {},
     "output_type": "display_data"
    },
    {
     "data": {
      "text/plain": [
       "<Figure size 720x576 with 0 Axes>"
      ]
     },
     "metadata": {},
     "output_type": "display_data"
    },
    {
     "data": {
      "text/plain": [
       "<Figure size 720x576 with 0 Axes>"
      ]
     },
     "metadata": {},
     "output_type": "display_data"
    },
    {
     "data": {
      "text/plain": [
       "<Figure size 720x576 with 0 Axes>"
      ]
     },
     "metadata": {},
     "output_type": "display_data"
    },
    {
     "data": {
      "text/plain": [
       "<Figure size 720x576 with 0 Axes>"
      ]
     },
     "metadata": {},
     "output_type": "display_data"
    },
    {
     "data": {
      "text/plain": [
       "<Figure size 720x576 with 0 Axes>"
      ]
     },
     "metadata": {},
     "output_type": "display_data"
    },
    {
     "data": {
      "text/plain": [
       "<Figure size 720x576 with 0 Axes>"
      ]
     },
     "metadata": {},
     "output_type": "display_data"
    },
    {
     "data": {
      "text/plain": [
       "<Figure size 720x576 with 0 Axes>"
      ]
     },
     "metadata": {},
     "output_type": "display_data"
    },
    {
     "data": {
      "text/plain": [
       "<Figure size 720x576 with 0 Axes>"
      ]
     },
     "metadata": {},
     "output_type": "display_data"
    },
    {
     "data": {
      "text/plain": [
       "<Figure size 720x576 with 0 Axes>"
      ]
     },
     "metadata": {},
     "output_type": "display_data"
    },
    {
     "data": {
      "text/plain": [
       "<Figure size 720x576 with 0 Axes>"
      ]
     },
     "metadata": {},
     "output_type": "display_data"
    },
    {
     "data": {
      "text/plain": [
       "<Figure size 720x576 with 0 Axes>"
      ]
     },
     "metadata": {},
     "output_type": "display_data"
    },
    {
     "data": {
      "text/plain": [
       "<Figure size 720x576 with 0 Axes>"
      ]
     },
     "metadata": {},
     "output_type": "display_data"
    },
    {
     "data": {
      "text/plain": [
       "<Figure size 720x576 with 0 Axes>"
      ]
     },
     "metadata": {},
     "output_type": "display_data"
    },
    {
     "data": {
      "text/plain": [
       "<Figure size 720x576 with 0 Axes>"
      ]
     },
     "metadata": {},
     "output_type": "display_data"
    },
    {
     "data": {
      "text/plain": [
       "<Figure size 720x576 with 0 Axes>"
      ]
     },
     "metadata": {},
     "output_type": "display_data"
    },
    {
     "data": {
      "text/plain": [
       "<Figure size 720x576 with 0 Axes>"
      ]
     },
     "metadata": {},
     "output_type": "display_data"
    },
    {
     "data": {
      "text/plain": [
       "<Figure size 720x576 with 0 Axes>"
      ]
     },
     "metadata": {},
     "output_type": "display_data"
    },
    {
     "data": {
      "text/plain": [
       "<Figure size 720x576 with 0 Axes>"
      ]
     },
     "metadata": {},
     "output_type": "display_data"
    },
    {
     "data": {
      "text/plain": [
       "<Figure size 720x576 with 0 Axes>"
      ]
     },
     "metadata": {},
     "output_type": "display_data"
    },
    {
     "data": {
      "text/plain": [
       "<Figure size 720x576 with 0 Axes>"
      ]
     },
     "metadata": {},
     "output_type": "display_data"
    },
    {
     "data": {
      "text/plain": [
       "<Figure size 720x576 with 0 Axes>"
      ]
     },
     "metadata": {},
     "output_type": "display_data"
    },
    {
     "data": {
      "text/plain": [
       "<Figure size 720x576 with 0 Axes>"
      ]
     },
     "metadata": {},
     "output_type": "display_data"
    },
    {
     "data": {
      "text/plain": [
       "<Figure size 720x576 with 0 Axes>"
      ]
     },
     "metadata": {},
     "output_type": "display_data"
    },
    {
     "data": {
      "text/plain": [
       "<Figure size 720x576 with 0 Axes>"
      ]
     },
     "metadata": {},
     "output_type": "display_data"
    },
    {
     "data": {
      "text/plain": [
       "<Figure size 720x576 with 0 Axes>"
      ]
     },
     "metadata": {},
     "output_type": "display_data"
    },
    {
     "data": {
      "text/plain": [
       "<Figure size 720x576 with 0 Axes>"
      ]
     },
     "metadata": {},
     "output_type": "display_data"
    },
    {
     "data": {
      "text/plain": [
       "<Figure size 720x576 with 0 Axes>"
      ]
     },
     "metadata": {},
     "output_type": "display_data"
    },
    {
     "data": {
      "text/plain": [
       "<Figure size 720x576 with 0 Axes>"
      ]
     },
     "metadata": {},
     "output_type": "display_data"
    },
    {
     "data": {
      "text/plain": [
       "<Figure size 720x576 with 0 Axes>"
      ]
     },
     "metadata": {},
     "output_type": "display_data"
    },
    {
     "data": {
      "text/plain": [
       "<Figure size 720x576 with 0 Axes>"
      ]
     },
     "metadata": {},
     "output_type": "display_data"
    },
    {
     "data": {
      "text/plain": [
       "<Figure size 720x576 with 0 Axes>"
      ]
     },
     "metadata": {},
     "output_type": "display_data"
    },
    {
     "data": {
      "text/plain": [
       "<Figure size 720x576 with 0 Axes>"
      ]
     },
     "metadata": {},
     "output_type": "display_data"
    },
    {
     "data": {
      "text/plain": [
       "<Figure size 720x576 with 0 Axes>"
      ]
     },
     "metadata": {},
     "output_type": "display_data"
    },
    {
     "data": {
      "text/plain": [
       "<Figure size 720x576 with 0 Axes>"
      ]
     },
     "metadata": {},
     "output_type": "display_data"
    },
    {
     "data": {
      "text/plain": [
       "<Figure size 720x576 with 0 Axes>"
      ]
     },
     "metadata": {},
     "output_type": "display_data"
    },
    {
     "data": {
      "text/plain": [
       "<Figure size 720x576 with 0 Axes>"
      ]
     },
     "metadata": {},
     "output_type": "display_data"
    },
    {
     "data": {
      "text/plain": [
       "<Figure size 720x576 with 0 Axes>"
      ]
     },
     "metadata": {},
     "output_type": "display_data"
    },
    {
     "data": {
      "text/plain": [
       "<Figure size 720x576 with 0 Axes>"
      ]
     },
     "metadata": {},
     "output_type": "display_data"
    },
    {
     "data": {
      "text/plain": [
       "<Figure size 720x576 with 0 Axes>"
      ]
     },
     "metadata": {},
     "output_type": "display_data"
    },
    {
     "data": {
      "text/plain": [
       "<Figure size 720x576 with 0 Axes>"
      ]
     },
     "metadata": {},
     "output_type": "display_data"
    },
    {
     "data": {
      "text/plain": [
       "<Figure size 720x576 with 0 Axes>"
      ]
     },
     "metadata": {},
     "output_type": "display_data"
    },
    {
     "data": {
      "text/plain": [
       "<Figure size 720x576 with 0 Axes>"
      ]
     },
     "metadata": {},
     "output_type": "display_data"
    },
    {
     "data": {
      "text/plain": [
       "<Figure size 720x576 with 0 Axes>"
      ]
     },
     "metadata": {},
     "output_type": "display_data"
    },
    {
     "data": {
      "text/plain": [
       "<Figure size 720x576 with 0 Axes>"
      ]
     },
     "metadata": {},
     "output_type": "display_data"
    },
    {
     "data": {
      "text/plain": [
       "<Figure size 720x576 with 0 Axes>"
      ]
     },
     "metadata": {},
     "output_type": "display_data"
    },
    {
     "data": {
      "text/plain": [
       "<Figure size 720x576 with 0 Axes>"
      ]
     },
     "metadata": {},
     "output_type": "display_data"
    },
    {
     "data": {
      "text/plain": [
       "<Figure size 720x576 with 0 Axes>"
      ]
     },
     "metadata": {},
     "output_type": "display_data"
    },
    {
     "data": {
      "text/plain": [
       "<Figure size 720x576 with 0 Axes>"
      ]
     },
     "metadata": {},
     "output_type": "display_data"
    },
    {
     "data": {
      "text/plain": [
       "<Figure size 720x576 with 0 Axes>"
      ]
     },
     "metadata": {},
     "output_type": "display_data"
    },
    {
     "data": {
      "text/plain": [
       "<Figure size 720x576 with 0 Axes>"
      ]
     },
     "metadata": {},
     "output_type": "display_data"
    },
    {
     "data": {
      "text/plain": [
       "<Figure size 720x576 with 0 Axes>"
      ]
     },
     "metadata": {},
     "output_type": "display_data"
    },
    {
     "data": {
      "text/plain": [
       "<Figure size 720x576 with 0 Axes>"
      ]
     },
     "metadata": {},
     "output_type": "display_data"
    },
    {
     "data": {
      "text/plain": [
       "<Figure size 720x576 with 0 Axes>"
      ]
     },
     "metadata": {},
     "output_type": "display_data"
    }
   ],
   "source": [
    "##################\n",
    "## User Parameters\n",
    "\n",
    "# Prefix will be appended with 001.png,002.png,003.png,...\n",
    "path_prefix = \"../plots/tilt_\"\n",
    "\n",
    "# Movie path will be appended with .mp4\n",
    "movie_path = \"../plots/test\"\n",
    "\n",
    "# Make a movie if auto = 1\n",
    "auto = 1\n",
    "\n",
    "# Remove all files starting with path_prefix if clean = 1\n",
    "clean = 1\n",
    "\n",
    "##\n",
    "##################\n",
    "\n",
    "## Call plotting interface to build frames\n",
    "for i,table in enumerate(tables):\n",
    "    suffix = str(i).zfill(4)\n",
    "    fig = plot_interface(table)\n",
    "    fig.savefig(path_prefix+suffix)\n",
    "    plt.clf()\n",
    "\n",
    "# Use ffmpeg from command line interface\n",
    "if (auto):\n",
    "    !ffmpeg -r 5 -s 1920x1080 -i {path_prefix}%04d.png {movie_path}.mp4\n",
    "\n",
    "# You can just delete the .png files if you already made your movie\n",
    "if (clean):\n",
    "    !rm $path_prefix*"
   ]
  }
 ],
 "metadata": {
  "kernelspec": {
   "display_name": "Python 2",
   "language": "python",
   "name": "python2"
  },
  "language_info": {
   "codemirror_mode": {
    "name": "ipython",
    "version": 2
   },
   "file_extension": ".py",
   "mimetype": "text/x-python",
   "name": "python",
   "nbconvert_exporter": "python",
   "pygments_lexer": "ipython2",
   "version": "2.7.15+"
  }
 },
 "nbformat": 4,
 "nbformat_minor": 2
}
